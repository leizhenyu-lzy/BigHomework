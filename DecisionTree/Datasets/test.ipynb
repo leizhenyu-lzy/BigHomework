{
 "cells": [
  {
   "cell_type": "code",
   "execution_count": 2,
   "metadata": {},
   "outputs": [],
   "source": [
    "import pandas as pd\n",
    "\n",
    "datasetPath = 'MelonDataset2alpha.csv'\n"
   ]
  },
  {
   "cell_type": "code",
   "execution_count": 5,
   "metadata": {},
   "outputs": [],
   "source": [
    "datasetDF1 = pd.read_csv(filepath_or_buffer=datasetPath,header=0, index_col=None)\n",
    "datasetDF2 = pd.read_csv(filepath_or_buffer=datasetPath,header=0, index_col=None)\n"
   ]
  },
  {
   "cell_type": "code",
   "execution_count": 6,
   "metadata": {},
   "outputs": [
    {
     "ename": "ValueError",
     "evalue": "Cannot index with multidimensional key",
     "output_type": "error",
     "traceback": [
      "\u001b[1;31m---------------------------------------------------------------------------\u001b[0m",
      "\u001b[1;31mValueError\u001b[0m                                Traceback (most recent call last)",
      "\u001b[1;32md:\\Project\\BigHomework\\DecisionTree\\Datasets\\test.ipynb Cell 3'\u001b[0m in \u001b[0;36m<cell line: 1>\u001b[1;34m()\u001b[0m\n\u001b[1;32m----> <a href='vscode-notebook-cell:/d%3A/Project/BigHomework/DecisionTree/Datasets/test.ipynb#ch0000002?line=0'>1</a>\u001b[0m datasetDF1\u001b[39m.\u001b[39;49mloc[datasetDF2\u001b[39m.\u001b[39;49miloc[\u001b[39m1\u001b[39;49m:\u001b[39m0\u001b[39;49m]]\n",
      "File \u001b[1;32md:\\Anaconda\\envs\\ML\\lib\\site-packages\\pandas\\core\\indexing.py:967\u001b[0m, in \u001b[0;36m_LocationIndexer.__getitem__\u001b[1;34m(self, key)\u001b[0m\n\u001b[0;32m    <a href='file:///d%3A/Anaconda/envs/ML/lib/site-packages/pandas/core/indexing.py?line=963'>964</a>\u001b[0m axis \u001b[39m=\u001b[39m \u001b[39mself\u001b[39m\u001b[39m.\u001b[39maxis \u001b[39mor\u001b[39;00m \u001b[39m0\u001b[39m\n\u001b[0;32m    <a href='file:///d%3A/Anaconda/envs/ML/lib/site-packages/pandas/core/indexing.py?line=965'>966</a>\u001b[0m maybe_callable \u001b[39m=\u001b[39m com\u001b[39m.\u001b[39mapply_if_callable(key, \u001b[39mself\u001b[39m\u001b[39m.\u001b[39mobj)\n\u001b[1;32m--> <a href='file:///d%3A/Anaconda/envs/ML/lib/site-packages/pandas/core/indexing.py?line=966'>967</a>\u001b[0m \u001b[39mreturn\u001b[39;00m \u001b[39mself\u001b[39;49m\u001b[39m.\u001b[39;49m_getitem_axis(maybe_callable, axis\u001b[39m=\u001b[39;49maxis)\n",
      "File \u001b[1;32md:\\Anaconda\\envs\\ML\\lib\\site-packages\\pandas\\core\\indexing.py:1189\u001b[0m, in \u001b[0;36m_LocIndexer._getitem_axis\u001b[1;34m(self, key, axis)\u001b[0m\n\u001b[0;32m   <a href='file:///d%3A/Anaconda/envs/ML/lib/site-packages/pandas/core/indexing.py?line=1185'>1186</a>\u001b[0m \u001b[39mif\u001b[39;00m \u001b[39mnot\u001b[39;00m (\u001b[39misinstance\u001b[39m(key, \u001b[39mtuple\u001b[39m) \u001b[39mand\u001b[39;00m \u001b[39misinstance\u001b[39m(labels, MultiIndex)):\n\u001b[0;32m   <a href='file:///d%3A/Anaconda/envs/ML/lib/site-packages/pandas/core/indexing.py?line=1187'>1188</a>\u001b[0m     \u001b[39mif\u001b[39;00m \u001b[39mhasattr\u001b[39m(key, \u001b[39m\"\u001b[39m\u001b[39mndim\u001b[39m\u001b[39m\"\u001b[39m) \u001b[39mand\u001b[39;00m key\u001b[39m.\u001b[39mndim \u001b[39m>\u001b[39m \u001b[39m1\u001b[39m:\n\u001b[1;32m-> <a href='file:///d%3A/Anaconda/envs/ML/lib/site-packages/pandas/core/indexing.py?line=1188'>1189</a>\u001b[0m         \u001b[39mraise\u001b[39;00m \u001b[39mValueError\u001b[39;00m(\u001b[39m\"\u001b[39m\u001b[39mCannot index with multidimensional key\u001b[39m\u001b[39m\"\u001b[39m)\n\u001b[0;32m   <a href='file:///d%3A/Anaconda/envs/ML/lib/site-packages/pandas/core/indexing.py?line=1190'>1191</a>\u001b[0m     \u001b[39mreturn\u001b[39;00m \u001b[39mself\u001b[39m\u001b[39m.\u001b[39m_getitem_iterable(key, axis\u001b[39m=\u001b[39maxis)\n\u001b[0;32m   <a href='file:///d%3A/Anaconda/envs/ML/lib/site-packages/pandas/core/indexing.py?line=1192'>1193</a>\u001b[0m \u001b[39m# nested tuple slicing\u001b[39;00m\n",
      "\u001b[1;31mValueError\u001b[0m: Cannot index with multidimensional key"
     ]
    }
   ],
   "source": [
    "datasetDF1.loc[datasetDF2.iloc[1:0]]"
   ]
  }
 ],
 "metadata": {
  "interpreter": {
   "hash": "8809126b2e3f6bd67afd8dec0aaf136102c3339cf179547b748c69a78a732e29"
  },
  "kernelspec": {
   "display_name": "Python 3.8.13 ('ML')",
   "language": "python",
   "name": "python3"
  },
  "language_info": {
   "codemirror_mode": {
    "name": "ipython",
    "version": 3
   },
   "file_extension": ".py",
   "mimetype": "text/x-python",
   "name": "python",
   "nbconvert_exporter": "python",
   "pygments_lexer": "ipython3",
   "version": "3.8.13"
  },
  "orig_nbformat": 4
 },
 "nbformat": 4,
 "nbformat_minor": 2
}
