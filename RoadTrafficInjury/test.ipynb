{
 "cells": [
  {
   "cell_type": "code",
   "execution_count": 32,
   "metadata": {},
   "outputs": [],
   "source": [
    "import numpy as np\n",
    "import pandas as pd\n",
    "\n",
    "from sklearn.preprocessing import LabelEncoder, OneHotEncoder, OrdinalEncoder, LabelBinarizer"
   ]
  },
  {
   "cell_type": "code",
   "execution_count": 33,
   "metadata": {},
   "outputs": [],
   "source": [
    "datasetPath = r\"D:\\Project\\BigHomework\\DecisionTree\\Datasets\\MelonDataset2.csv\"\n",
    "datasetNewPath = r\"D:\\Project\\BigHomework\\DecisionTree\\Datasets\\MelonDataset2alpha.csv\""
   ]
  },
  {
   "cell_type": "code",
   "execution_count": 28,
   "metadata": {},
   "outputs": [
    {
     "name": "stdout",
     "output_type": "stream",
     "text": [
      "    色泽  根蒂  敲声  纹理  脐部  触感  好坏\n",
      "0   青绿  蜷缩  浊响  清晰  凹陷  硬滑  好瓜\n",
      "1   乌黑  蜷缩  沉闷  清晰  凹陷  硬滑  好瓜\n",
      "2   乌黑  蜷缩  浊响  清晰  凹陷  硬滑  好瓜\n",
      "3   青绿  蜷缩  沉闷  清晰  凹陷  硬滑  好瓜\n",
      "4   浅白  蜷缩  浊响  清晰  凹陷  硬滑  好瓜\n",
      "5   青绿  稍蜷  浊响  清晰  稍凹  软粘  好瓜\n",
      "6   乌黑  稍蜷  浊响  稍糊  稍凹  软粘  好瓜\n",
      "7   乌黑  稍蜷  浊响  清晰  稍凹  硬滑  好瓜\n",
      "8   乌黑  稍蜷  沉闷  稍糊  稍凹  硬滑  坏瓜\n",
      "9   青绿  硬挺  清脆  清晰  平坦  软粘  坏瓜\n",
      "10  浅白  硬挺  清脆  模糊  平坦  硬滑  坏瓜\n",
      "11  浅白  蜷缩  浊响  模糊  平坦  软粘  坏瓜\n",
      "12  青绿  稍蜷  浊响  稍糊  凹陷  硬滑  坏瓜\n",
      "13  浅白  稍蜷  沉闷  稍糊  凹陷  硬滑  坏瓜\n",
      "14  乌黑  稍蜷  浊响  清晰  稍凹  软粘  坏瓜\n",
      "15  浅白  蜷缩  浊响  模糊  平坦  硬滑  坏瓜\n",
      "16  青绿  蜷缩  沉闷  稍糊  稍凹  硬滑  坏瓜\n"
     ]
    }
   ],
   "source": [
    "datasetDF = pd.read_csv(filepath_or_buffer=datasetPath, header=0, index_col=None)\n",
    "print(datasetDF)"
   ]
  },
  {
   "cell_type": "code",
   "execution_count": 23,
   "metadata": {},
   "outputs": [],
   "source": [
    "encLabel = LabelEncoder()\n",
    "encOnehot = OneHotEncoder()\n",
    "encOrd = OrdinalEncoder()"
   ]
  },
  {
   "cell_type": "code",
   "execution_count": 29,
   "metadata": {},
   "outputs": [
    {
     "name": "stdout",
     "output_type": "stream",
     "text": [
      "['乌黑' '浅白' '青绿']\n",
      "['硬挺' '稍蜷' '蜷缩']\n",
      "['沉闷' '浊响' '清脆']\n",
      "['模糊' '清晰' '稍糊']\n",
      "['凹陷' '平坦' '稍凹']\n",
      "['硬滑' '软粘']\n",
      "['坏瓜' '好瓜']\n"
     ]
    }
   ],
   "source": [
    "for col in datasetDF:\n",
    "    datasetDF[col] = encLabel.fit_transform(datasetDF[col])\n",
    "    print(encLabel.classes_)\n",
    "\n",
    "# print(datasetDF)"
   ]
  },
  {
   "cell_type": "code",
   "execution_count": 30,
   "metadata": {},
   "outputs": [
    {
     "name": "stdout",
     "output_type": "stream",
     "text": [
      "    色泽  根蒂  敲声  纹理  脐部  触感  好坏\n",
      "0    2   2   1   1   0   0   1\n",
      "1    0   2   0   1   0   0   1\n",
      "2    0   2   1   1   0   0   1\n",
      "3    2   2   0   1   0   0   1\n",
      "4    1   2   1   1   0   0   1\n",
      "5    2   1   1   1   2   1   1\n",
      "6    0   1   1   2   2   1   1\n",
      "7    0   1   1   1   2   0   1\n",
      "8    0   1   0   2   2   0   0\n",
      "9    2   0   2   1   1   1   0\n",
      "10   1   0   2   0   1   0   0\n",
      "11   1   2   1   0   1   1   0\n",
      "12   2   1   1   2   0   0   0\n",
      "13   1   1   0   2   0   0   0\n",
      "14   0   1   1   1   2   1   0\n",
      "15   1   2   1   0   1   0   0\n",
      "16   2   2   0   2   2   0   0\n"
     ]
    }
   ],
   "source": [
    "print(datasetDF)"
   ]
  },
  {
   "cell_type": "code",
   "execution_count": null,
   "metadata": {},
   "outputs": [],
   "source": []
  },
  {
   "cell_type": "code",
   "execution_count": null,
   "metadata": {},
   "outputs": [],
   "source": []
  },
  {
   "cell_type": "code",
   "execution_count": null,
   "metadata": {},
   "outputs": [],
   "source": []
  },
  {
   "cell_type": "code",
   "execution_count": 20,
   "metadata": {},
   "outputs": [
    {
     "name": "stdout",
     "output_type": "stream",
     "text": [
      "[[0. 0. 1.]\n",
      " [1. 0. 0.]\n",
      " [1. 0. 0.]\n",
      " [0. 0. 1.]\n",
      " [0. 1. 0.]\n",
      " [0. 0. 1.]\n",
      " [1. 0. 0.]\n",
      " [1. 0. 0.]\n",
      " [1. 0. 0.]\n",
      " [0. 0. 1.]\n",
      " [0. 1. 0.]\n",
      " [0. 1. 0.]\n",
      " [0. 0. 1.]\n",
      " [0. 1. 0.]\n",
      " [1. 0. 0.]\n",
      " [0. 1. 0.]\n",
      " [0. 0. 1.]]\n"
     ]
    }
   ],
   "source": [
    "encOnehot = OneHotEncoder()\n",
    "encOrd = OrdinalEncoder()\n",
    "\n",
    "x = datasetDF['色泽'].to_numpy().reshape(-1,1)\n",
    "\n",
    "# encOrd.fit(x)\n",
    "# print(encOrd.transform(x))\n",
    "\n",
    "encOnehot.fit(x)\n",
    "print(encOnehot.transform(x).toarray())\n",
    "\n",
    "# for index, s in enumerate(datasetDF):\n",
    "#     if index == 0:\n",
    "#         encOnehot.fit(X=datasetDF[s].to_numpy().reshape(-1,1))\n",
    "#         print(encOnehot.transform(X=datasetDF[s]).to_numpy().reshape(-1,1))\n",
    "#         break"
   ]
  },
  {
   "cell_type": "code",
   "execution_count": null,
   "metadata": {},
   "outputs": [],
   "source": [
    "encLabel = LabelEncoder()\n"
   ]
  },
  {
   "cell_type": "code",
   "execution_count": null,
   "metadata": {},
   "outputs": [],
   "source": []
  },
  {
   "cell_type": "code",
   "execution_count": 93,
   "metadata": {},
   "outputs": [
    {
     "name": "stdout",
     "output_type": "stream",
     "text": [
      "   色泽  根蒂  敲声  纹理  脐部  触感 好瓜\n",
      "0  乌黑  蜷缩  浊响  清晰  凹陷  硬滑  否\n",
      "     色泽   根蒂   敲声   纹理   脐部   触感 好瓜\n",
      "0    乌黑   蜷缩   浊响   清晰   凹陷   硬滑  是\n",
      "1    乌黑   蜷缩   沉闷   清晰   凹陷  NaN  是\n",
      "2    乌黑   蜷缩  NaN   清晰   凹陷   硬滑  是\n",
      "3    青绿   蜷缩   沉闷   清晰   凹陷   硬滑  是\n",
      "4   NaN   蜷缩   浊响   清晰   凹陷   硬滑  是\n",
      "5    青绿   稍蜷   浊响   清晰  NaN   软粘  是\n",
      "6    乌黑   稍蜷   浊响   稍糊   稍凹   软粘  是\n",
      "7    乌黑   稍蜷   浊响  NaN   稍凹   硬滑  是\n",
      "8    乌黑  NaN   沉闷   稍糊   稍凹   硬滑  否\n",
      "9    青绿   硬挺   清脆  NaN   平坦   软粘  否\n",
      "10   浅白   硬挺   清脆   模糊   平坦  NaN  否\n",
      "11   浅白   蜷缩  NaN   模糊   平坦   软粘  否\n",
      "12  NaN   稍蜷   浊响   稍糊   凹陷   硬滑  否\n",
      "13   浅白   稍蜷   沉闷   稍糊   凹陷   硬滑  否\n",
      "14   乌黑   稍蜷   浊响   清晰  NaN   软粘  否\n",
      "15   浅白   蜷缩   浊响   模糊   平坦   硬滑  否\n",
      "16   青绿  NaN   沉闷   稍糊   稍凹   硬滑  否\n"
     ]
    }
   ],
   "source": [
    "datasetOriginDF = pd.read_csv(datasetNewPath, header=0 ,index_col=None)\n",
    "\n",
    "print(datasetOriginDF.mode())\n",
    "\n",
    "datasetOriginDF.fillna(datasetOriginDF.mode(),axis = 1, inplace=True)\n",
    "\n",
    "print(datasetOriginDF)\n"
   ]
  },
  {
   "cell_type": "code",
   "execution_count": 98,
   "metadata": {},
   "outputs": [
    {
     "name": "stdout",
     "output_type": "stream",
     "text": [
      "[nan, '乌黑', '乌黑', '青绿', nan, '青绿', '乌黑', '乌黑', '乌黑', '青绿', '浅白', '浅白', nan, '浅白', '乌黑', '浅白', '青绿']\n"
     ]
    },
    {
     "ename": "TypeError",
     "evalue": "'float' object is not iterable",
     "output_type": "error",
     "traceback": [
      "\u001b[1;31m---------------------------------------------------------------------------\u001b[0m",
      "\u001b[1;31mTypeError\u001b[0m                                 Traceback (most recent call last)",
      "\u001b[1;32md:\\Project\\BigHomework\\RoadTrafficInjury\\test.ipynb Cell 14'\u001b[0m in \u001b[0;36m<cell line: 5>\u001b[1;34m()\u001b[0m\n\u001b[0;32m      <a href='vscode-notebook-cell:/d%3A/Project/BigHomework/RoadTrafficInjury/test.ipynb#ch0000022?line=4'>5</a>\u001b[0m \u001b[39mfor\u001b[39;00m feature \u001b[39min\u001b[39;00m datasetNewDF:\n\u001b[0;32m      <a href='vscode-notebook-cell:/d%3A/Project/BigHomework/RoadTrafficInjury/test.ipynb#ch0000022?line=5'>6</a>\u001b[0m     \u001b[39mprint\u001b[39m(datasetNewDF[feature]\u001b[39m.\u001b[39mto_list())\n\u001b[1;32m----> <a href='vscode-notebook-cell:/d%3A/Project/BigHomework/RoadTrafficInjury/test.ipynb#ch0000022?line=6'>7</a>\u001b[0m     k \u001b[39m=\u001b[39m imputer_mostfreq\u001b[39m.\u001b[39;49mfit_transform(datasetNewDF[feature]\u001b[39m.\u001b[39;49mto_list())\n\u001b[0;32m      <a href='vscode-notebook-cell:/d%3A/Project/BigHomework/RoadTrafficInjury/test.ipynb#ch0000022?line=7'>8</a>\u001b[0m     \u001b[39mprint\u001b[39m(k)\n",
      "File \u001b[1;32md:\\Anaconda\\envs\\ML\\lib\\site-packages\\sklearn\\base.py:867\u001b[0m, in \u001b[0;36mTransformerMixin.fit_transform\u001b[1;34m(self, X, y, **fit_params)\u001b[0m\n\u001b[0;32m    <a href='file:///d%3A/Anaconda/envs/ML/lib/site-packages/sklearn/base.py?line=862'>863</a>\u001b[0m \u001b[39m# non-optimized default implementation; override when a better\u001b[39;00m\n\u001b[0;32m    <a href='file:///d%3A/Anaconda/envs/ML/lib/site-packages/sklearn/base.py?line=863'>864</a>\u001b[0m \u001b[39m# method is possible for a given clustering algorithm\u001b[39;00m\n\u001b[0;32m    <a href='file:///d%3A/Anaconda/envs/ML/lib/site-packages/sklearn/base.py?line=864'>865</a>\u001b[0m \u001b[39mif\u001b[39;00m y \u001b[39mis\u001b[39;00m \u001b[39mNone\u001b[39;00m:\n\u001b[0;32m    <a href='file:///d%3A/Anaconda/envs/ML/lib/site-packages/sklearn/base.py?line=865'>866</a>\u001b[0m     \u001b[39m# fit method of arity 1 (unsupervised transformation)\u001b[39;00m\n\u001b[1;32m--> <a href='file:///d%3A/Anaconda/envs/ML/lib/site-packages/sklearn/base.py?line=866'>867</a>\u001b[0m     \u001b[39mreturn\u001b[39;00m \u001b[39mself\u001b[39;49m\u001b[39m.\u001b[39;49mfit(X, \u001b[39m*\u001b[39;49m\u001b[39m*\u001b[39;49mfit_params)\u001b[39m.\u001b[39mtransform(X)\n\u001b[0;32m    <a href='file:///d%3A/Anaconda/envs/ML/lib/site-packages/sklearn/base.py?line=867'>868</a>\u001b[0m \u001b[39melse\u001b[39;00m:\n\u001b[0;32m    <a href='file:///d%3A/Anaconda/envs/ML/lib/site-packages/sklearn/base.py?line=868'>869</a>\u001b[0m     \u001b[39m# fit method of arity 2 (supervised transformation)\u001b[39;00m\n\u001b[0;32m    <a href='file:///d%3A/Anaconda/envs/ML/lib/site-packages/sklearn/base.py?line=869'>870</a>\u001b[0m     \u001b[39mreturn\u001b[39;00m \u001b[39mself\u001b[39m\u001b[39m.\u001b[39mfit(X, y, \u001b[39m*\u001b[39m\u001b[39m*\u001b[39mfit_params)\u001b[39m.\u001b[39mtransform(X)\n",
      "File \u001b[1;32md:\\Anaconda\\envs\\ML\\lib\\site-packages\\sklearn\\impute\\_base.py:345\u001b[0m, in \u001b[0;36mSimpleImputer.fit\u001b[1;34m(self, X, y)\u001b[0m\n\u001b[0;32m    <a href='file:///d%3A/Anaconda/envs/ML/lib/site-packages/sklearn/impute/_base.py?line=335'>336</a>\u001b[0m \u001b[39mif\u001b[39;00m \u001b[39mself\u001b[39m\u001b[39m.\u001b[39mverbose \u001b[39m!=\u001b[39m \u001b[39m\"\u001b[39m\u001b[39mdeprecated\u001b[39m\u001b[39m\"\u001b[39m:\n\u001b[0;32m    <a href='file:///d%3A/Anaconda/envs/ML/lib/site-packages/sklearn/impute/_base.py?line=336'>337</a>\u001b[0m     warnings\u001b[39m.\u001b[39mwarn(\n\u001b[0;32m    <a href='file:///d%3A/Anaconda/envs/ML/lib/site-packages/sklearn/impute/_base.py?line=337'>338</a>\u001b[0m         \u001b[39m\"\u001b[39m\u001b[39mThe \u001b[39m\u001b[39m'\u001b[39m\u001b[39mverbose\u001b[39m\u001b[39m'\u001b[39m\u001b[39m parameter was deprecated in version \u001b[39m\u001b[39m\"\u001b[39m\n\u001b[0;32m    <a href='file:///d%3A/Anaconda/envs/ML/lib/site-packages/sklearn/impute/_base.py?line=338'>339</a>\u001b[0m         \u001b[39m\"\u001b[39m\u001b[39m1.1 and will be removed in 1.3. A warning will \u001b[39m\u001b[39m\"\u001b[39m\n\u001b[1;32m   (...)\u001b[0m\n\u001b[0;32m    <a href='file:///d%3A/Anaconda/envs/ML/lib/site-packages/sklearn/impute/_base.py?line=341'>342</a>\u001b[0m         \u001b[39mFutureWarning\u001b[39;00m,\n\u001b[0;32m    <a href='file:///d%3A/Anaconda/envs/ML/lib/site-packages/sklearn/impute/_base.py?line=342'>343</a>\u001b[0m     )\n\u001b[1;32m--> <a href='file:///d%3A/Anaconda/envs/ML/lib/site-packages/sklearn/impute/_base.py?line=344'>345</a>\u001b[0m X \u001b[39m=\u001b[39m \u001b[39mself\u001b[39;49m\u001b[39m.\u001b[39;49m_validate_input(X, in_fit\u001b[39m=\u001b[39;49m\u001b[39mTrue\u001b[39;49;00m)\n\u001b[0;32m    <a href='file:///d%3A/Anaconda/envs/ML/lib/site-packages/sklearn/impute/_base.py?line=346'>347</a>\u001b[0m \u001b[39m# default fill_value is 0 for numerical input and \"missing_value\"\u001b[39;00m\n\u001b[0;32m    <a href='file:///d%3A/Anaconda/envs/ML/lib/site-packages/sklearn/impute/_base.py?line=347'>348</a>\u001b[0m \u001b[39m# otherwise\u001b[39;00m\n\u001b[0;32m    <a href='file:///d%3A/Anaconda/envs/ML/lib/site-packages/sklearn/impute/_base.py?line=348'>349</a>\u001b[0m \u001b[39mif\u001b[39;00m \u001b[39mself\u001b[39m\u001b[39m.\u001b[39mfill_value \u001b[39mis\u001b[39;00m \u001b[39mNone\u001b[39;00m:\n",
      "File \u001b[1;32md:\\Anaconda\\envs\\ML\\lib\\site-packages\\sklearn\\impute\\_base.py:272\u001b[0m, in \u001b[0;36mSimpleImputer._validate_input\u001b[1;34m(self, X, in_fit)\u001b[0m\n\u001b[0;32m    <a href='file:///d%3A/Anaconda/envs/ML/lib/site-packages/sklearn/impute/_base.py?line=260'>261</a>\u001b[0m     \u001b[39mraise\u001b[39;00m \u001b[39mValueError\u001b[39;00m(\n\u001b[0;32m    <a href='file:///d%3A/Anaconda/envs/ML/lib/site-packages/sklearn/impute/_base.py?line=261'>262</a>\u001b[0m         \u001b[39m\"\u001b[39m\u001b[39mCan only use these strategies: \u001b[39m\u001b[39m{0}\u001b[39;00m\u001b[39m  got strategy=\u001b[39m\u001b[39m{1}\u001b[39;00m\u001b[39m\"\u001b[39m\u001b[39m.\u001b[39mformat(\n\u001b[0;32m    <a href='file:///d%3A/Anaconda/envs/ML/lib/site-packages/sklearn/impute/_base.py?line=262'>263</a>\u001b[0m             allowed_strategies, \u001b[39mself\u001b[39m\u001b[39m.\u001b[39mstrategy\n\u001b[0;32m    <a href='file:///d%3A/Anaconda/envs/ML/lib/site-packages/sklearn/impute/_base.py?line=263'>264</a>\u001b[0m         )\n\u001b[0;32m    <a href='file:///d%3A/Anaconda/envs/ML/lib/site-packages/sklearn/impute/_base.py?line=264'>265</a>\u001b[0m     )\n\u001b[0;32m    <a href='file:///d%3A/Anaconda/envs/ML/lib/site-packages/sklearn/impute/_base.py?line=266'>267</a>\u001b[0m \u001b[39mif\u001b[39;00m \u001b[39mself\u001b[39m\u001b[39m.\u001b[39mstrategy \u001b[39min\u001b[39;00m (\u001b[39m\"\u001b[39m\u001b[39mmost_frequent\u001b[39m\u001b[39m\"\u001b[39m, \u001b[39m\"\u001b[39m\u001b[39mconstant\u001b[39m\u001b[39m\"\u001b[39m):\n\u001b[0;32m    <a href='file:///d%3A/Anaconda/envs/ML/lib/site-packages/sklearn/impute/_base.py?line=267'>268</a>\u001b[0m     \u001b[39m# If input is a list of strings, dtype = object.\u001b[39;00m\n\u001b[0;32m    <a href='file:///d%3A/Anaconda/envs/ML/lib/site-packages/sklearn/impute/_base.py?line=268'>269</a>\u001b[0m     \u001b[39m# Otherwise ValueError is raised in SimpleImputer\u001b[39;00m\n\u001b[0;32m    <a href='file:///d%3A/Anaconda/envs/ML/lib/site-packages/sklearn/impute/_base.py?line=269'>270</a>\u001b[0m     \u001b[39m# with strategy='most_frequent' or 'constant'\u001b[39;00m\n\u001b[0;32m    <a href='file:///d%3A/Anaconda/envs/ML/lib/site-packages/sklearn/impute/_base.py?line=270'>271</a>\u001b[0m     \u001b[39m# because the list is converted to Unicode numpy array\u001b[39;00m\n\u001b[1;32m--> <a href='file:///d%3A/Anaconda/envs/ML/lib/site-packages/sklearn/impute/_base.py?line=271'>272</a>\u001b[0m     \u001b[39mif\u001b[39;00m \u001b[39misinstance\u001b[39m(X, \u001b[39mlist\u001b[39m) \u001b[39mand\u001b[39;00m \u001b[39many\u001b[39;49m(\n\u001b[0;32m    <a href='file:///d%3A/Anaconda/envs/ML/lib/site-packages/sklearn/impute/_base.py?line=272'>273</a>\u001b[0m         \u001b[39misinstance\u001b[39;49m(elem, \u001b[39mstr\u001b[39;49m) \u001b[39mfor\u001b[39;49;00m row \u001b[39min\u001b[39;49;00m X \u001b[39mfor\u001b[39;49;00m elem \u001b[39min\u001b[39;49;00m row\n\u001b[0;32m    <a href='file:///d%3A/Anaconda/envs/ML/lib/site-packages/sklearn/impute/_base.py?line=273'>274</a>\u001b[0m     ):\n\u001b[0;32m    <a href='file:///d%3A/Anaconda/envs/ML/lib/site-packages/sklearn/impute/_base.py?line=274'>275</a>\u001b[0m         dtype \u001b[39m=\u001b[39m \u001b[39mobject\u001b[39m\n\u001b[0;32m    <a href='file:///d%3A/Anaconda/envs/ML/lib/site-packages/sklearn/impute/_base.py?line=275'>276</a>\u001b[0m     \u001b[39melse\u001b[39;00m:\n",
      "File \u001b[1;32md:\\Anaconda\\envs\\ML\\lib\\site-packages\\sklearn\\impute\\_base.py:273\u001b[0m, in \u001b[0;36m<genexpr>\u001b[1;34m(.0)\u001b[0m\n\u001b[0;32m    <a href='file:///d%3A/Anaconda/envs/ML/lib/site-packages/sklearn/impute/_base.py?line=260'>261</a>\u001b[0m     \u001b[39mraise\u001b[39;00m \u001b[39mValueError\u001b[39;00m(\n\u001b[0;32m    <a href='file:///d%3A/Anaconda/envs/ML/lib/site-packages/sklearn/impute/_base.py?line=261'>262</a>\u001b[0m         \u001b[39m\"\u001b[39m\u001b[39mCan only use these strategies: \u001b[39m\u001b[39m{0}\u001b[39;00m\u001b[39m  got strategy=\u001b[39m\u001b[39m{1}\u001b[39;00m\u001b[39m\"\u001b[39m\u001b[39m.\u001b[39mformat(\n\u001b[0;32m    <a href='file:///d%3A/Anaconda/envs/ML/lib/site-packages/sklearn/impute/_base.py?line=262'>263</a>\u001b[0m             allowed_strategies, \u001b[39mself\u001b[39m\u001b[39m.\u001b[39mstrategy\n\u001b[0;32m    <a href='file:///d%3A/Anaconda/envs/ML/lib/site-packages/sklearn/impute/_base.py?line=263'>264</a>\u001b[0m         )\n\u001b[0;32m    <a href='file:///d%3A/Anaconda/envs/ML/lib/site-packages/sklearn/impute/_base.py?line=264'>265</a>\u001b[0m     )\n\u001b[0;32m    <a href='file:///d%3A/Anaconda/envs/ML/lib/site-packages/sklearn/impute/_base.py?line=266'>267</a>\u001b[0m \u001b[39mif\u001b[39;00m \u001b[39mself\u001b[39m\u001b[39m.\u001b[39mstrategy \u001b[39min\u001b[39;00m (\u001b[39m\"\u001b[39m\u001b[39mmost_frequent\u001b[39m\u001b[39m\"\u001b[39m, \u001b[39m\"\u001b[39m\u001b[39mconstant\u001b[39m\u001b[39m\"\u001b[39m):\n\u001b[0;32m    <a href='file:///d%3A/Anaconda/envs/ML/lib/site-packages/sklearn/impute/_base.py?line=267'>268</a>\u001b[0m     \u001b[39m# If input is a list of strings, dtype = object.\u001b[39;00m\n\u001b[0;32m    <a href='file:///d%3A/Anaconda/envs/ML/lib/site-packages/sklearn/impute/_base.py?line=268'>269</a>\u001b[0m     \u001b[39m# Otherwise ValueError is raised in SimpleImputer\u001b[39;00m\n\u001b[0;32m    <a href='file:///d%3A/Anaconda/envs/ML/lib/site-packages/sklearn/impute/_base.py?line=269'>270</a>\u001b[0m     \u001b[39m# with strategy='most_frequent' or 'constant'\u001b[39;00m\n\u001b[0;32m    <a href='file:///d%3A/Anaconda/envs/ML/lib/site-packages/sklearn/impute/_base.py?line=270'>271</a>\u001b[0m     \u001b[39m# because the list is converted to Unicode numpy array\u001b[39;00m\n\u001b[0;32m    <a href='file:///d%3A/Anaconda/envs/ML/lib/site-packages/sklearn/impute/_base.py?line=271'>272</a>\u001b[0m     \u001b[39mif\u001b[39;00m \u001b[39misinstance\u001b[39m(X, \u001b[39mlist\u001b[39m) \u001b[39mand\u001b[39;00m \u001b[39many\u001b[39m(\n\u001b[1;32m--> <a href='file:///d%3A/Anaconda/envs/ML/lib/site-packages/sklearn/impute/_base.py?line=272'>273</a>\u001b[0m         \u001b[39misinstance\u001b[39m(elem, \u001b[39mstr\u001b[39m) \u001b[39mfor\u001b[39;00m row \u001b[39min\u001b[39;00m X \u001b[39mfor\u001b[39;00m elem \u001b[39min\u001b[39;00m row\n\u001b[0;32m    <a href='file:///d%3A/Anaconda/envs/ML/lib/site-packages/sklearn/impute/_base.py?line=273'>274</a>\u001b[0m     ):\n\u001b[0;32m    <a href='file:///d%3A/Anaconda/envs/ML/lib/site-packages/sklearn/impute/_base.py?line=274'>275</a>\u001b[0m         dtype \u001b[39m=\u001b[39m \u001b[39mobject\u001b[39m\n\u001b[0;32m    <a href='file:///d%3A/Anaconda/envs/ML/lib/site-packages/sklearn/impute/_base.py?line=275'>276</a>\u001b[0m     \u001b[39melse\u001b[39;00m:\n",
      "\u001b[1;31mTypeError\u001b[0m: 'float' object is not iterable"
     ]
    }
   ],
   "source": [
    "datasetNewDF = pd.read_csv(datasetNewPath, header=0, index_col=None)\n",
    "\n",
    "from sklearn.impute import SimpleImputer\n",
    "imputer_mostfreq = SimpleImputer(strategy=\"constant\", fill_value='sb')\n",
    "for feature in datasetNewDF:\n",
    "    print(datasetNewDF[feature].to_list())\n",
    "    k = imputer_mostfreq.fit_transform(datasetNewDF[feature].to_list())\n",
    "    print(k)\n",
    "# datasetNewNdarray = imputer_mostfreq.fit_transform(datasetNewDF)\n",
    "# print(datasetNewDF)"
   ]
  },
  {
   "cell_type": "code",
   "execution_count": 81,
   "metadata": {},
   "outputs": [
    {
     "name": "stdout",
     "output_type": "stream",
     "text": [
      "    色泽  根蒂  敲声  纹理  脐部  触感 好瓜\n",
      "0   乌黑  蜷缩  浊响  清晰  凹陷  硬滑  是\n",
      "1   乌黑  蜷缩  沉闷  清晰  凹陷  硬滑  是\n",
      "2   乌黑  蜷缩  浊响  清晰  凹陷  硬滑  是\n",
      "3   青绿  蜷缩  沉闷  清晰  凹陷  硬滑  是\n",
      "4   乌黑  蜷缩  浊响  清晰  凹陷  硬滑  是\n",
      "5   青绿  稍蜷  浊响  清晰  凹陷  软粘  是\n",
      "6   乌黑  稍蜷  浊响  稍糊  稍凹  软粘  是\n",
      "7   乌黑  稍蜷  浊响  清晰  稍凹  硬滑  是\n",
      "8   乌黑  蜷缩  沉闷  稍糊  稍凹  硬滑  否\n",
      "9   青绿  硬挺  清脆  清晰  平坦  软粘  否\n",
      "10  浅白  硬挺  清脆  模糊  平坦  硬滑  否\n",
      "11  浅白  蜷缩  浊响  模糊  平坦  软粘  否\n",
      "12  乌黑  稍蜷  浊响  稍糊  凹陷  硬滑  否\n",
      "13  浅白  稍蜷  沉闷  稍糊  凹陷  硬滑  否\n",
      "14  乌黑  稍蜷  浊响  清晰  凹陷  软粘  否\n",
      "15  浅白  蜷缩  浊响  模糊  平坦  硬滑  否\n",
      "16  青绿  蜷缩  沉闷  稍糊  稍凹  硬滑  否\n"
     ]
    }
   ],
   "source": [
    "for i in range(datasetNewDF.shape[0]):\n",
    "    datasetNewDF.iloc[i,:] = datasetNewNdarray[i]\n",
    "print(datasetNewDF)"
   ]
  },
  {
   "cell_type": "code",
   "execution_count": 89,
   "metadata": {},
   "outputs": [
    {
     "name": "stdout",
     "output_type": "stream",
     "text": [
      "    色泽  根蒂  敲声  纹理  脐部  触感  好坏\n",
      "0    2   2   1   1   0   0   1\n",
      "1    0   2   0   1   0   0   1\n",
      "2    0   2   1   1   0   0   1\n",
      "3    2   2   0   1   0   0   1\n",
      "4    1   2   1   1   0   0   1\n",
      "5    2   1   1   1   2   1   1\n",
      "6    0   1   1   2   2   1   1\n",
      "7    0   1   1   1   2   0   1\n",
      "8    0   1   0   2   2   0   0\n",
      "9    2   0   2   1   1   1   0\n",
      "10   1   0   2   0   1   0   0\n",
      "11   1   2   1   0   1   1   0\n",
      "12   2   1   1   2   0   0   0\n",
      "13   1   1   0   2   0   0   0\n",
      "14   0   1   1   1   2   1   0\n",
      "15   1   2   1   0   1   0   0\n",
      "16   2   2   0   2   2   0   0\n"
     ]
    }
   ],
   "source": [
    "print(datasetDF)"
   ]
  },
  {
   "cell_type": "code",
   "execution_count": 92,
   "metadata": {},
   "outputs": [
    {
     "name": "stdout",
     "output_type": "stream",
     "text": [
      "2\n",
      "6\n",
      "2\n",
      "8\n",
      "1\n",
      "10\n",
      "1\n",
      "9\n",
      "0\n",
      "7\n",
      "0\n",
      "12\n",
      "0\n",
      "9\n"
     ]
    }
   ],
   "source": [
    "for i in datasetDF:\n",
    "    print(datasetDF[i].value_counts().index[0])\n",
    "    print(datasetDF[i].value_counts())\n",
    "    print(datasetDF[i].value_counts().values[0])"
   ]
  },
  {
   "cell_type": "code",
   "execution_count": 82,
   "metadata": {},
   "outputs": [
    {
     "name": "stdout",
     "output_type": "stream",
     "text": [
      "['乌黑' '浅白' '青绿']\n",
      "['硬挺' '稍蜷' '蜷缩']\n",
      "['沉闷' '浊响' '清脆']\n",
      "['模糊' '清晰' '稍糊']\n",
      "['凹陷' '平坦' '稍凹']\n",
      "['硬滑' '软粘']\n",
      "['否' '是']\n"
     ]
    }
   ],
   "source": [
    "for i in range(datasetNewDF.shape[1]):\n",
    "    datasetNewDF.iloc[:, i] = encLabel.fit_transform(datasetNewDF.iloc[:, i])\n",
    "    print(encLabel.classes_)"
   ]
  },
  {
   "cell_type": "code",
   "execution_count": 83,
   "metadata": {},
   "outputs": [
    {
     "name": "stdout",
     "output_type": "stream",
     "text": [
      "    色泽  根蒂  敲声  纹理  脐部  触感  好瓜\n",
      "0    0   2   1   1   0   0   1\n",
      "1    0   2   0   1   0   0   1\n",
      "2    0   2   1   1   0   0   1\n",
      "3    2   2   0   1   0   0   1\n",
      "4    0   2   1   1   0   0   1\n",
      "5    2   1   1   1   0   1   1\n",
      "6    0   1   1   2   2   1   1\n",
      "7    0   1   1   1   2   0   1\n",
      "8    0   2   0   2   2   0   0\n",
      "9    2   0   2   1   1   1   0\n",
      "10   1   0   2   0   1   0   0\n",
      "11   1   2   1   0   1   1   0\n",
      "12   0   1   1   2   0   0   0\n",
      "13   1   1   0   2   0   0   0\n",
      "14   0   1   1   1   0   1   0\n",
      "15   1   2   1   0   1   0   0\n",
      "16   2   2   0   2   2   0   0\n"
     ]
    }
   ],
   "source": [
    "print(datasetNewDF)"
   ]
  },
  {
   "cell_type": "code",
   "execution_count": 37,
   "metadata": {},
   "outputs": [],
   "source": [
    "from sklearn.preprocessing import LabelEncoder"
   ]
  },
  {
   "cell_type": "code",
   "execution_count": 40,
   "metadata": {},
   "outputs": [
    {
     "ename": "IndexError",
     "evalue": "arrays used as indices must be of integer (or boolean) type",
     "output_type": "error",
     "traceback": [
      "\u001b[1;31m---------------------------------------------------------------------------\u001b[0m",
      "\u001b[1;31mIndexError\u001b[0m                                Traceback (most recent call last)",
      "\u001b[1;32md:\\Project\\BigHomework\\RoadTrafficInjury\\test.ipynb Cell 16'\u001b[0m in \u001b[0;36m<cell line: 2>\u001b[1;34m()\u001b[0m\n\u001b[0;32m      <a href='vscode-notebook-cell:/d%3A/Project/BigHomework/RoadTrafficInjury/test.ipynb#ch0000024?line=0'>1</a>\u001b[0m labelEncoder \u001b[39m=\u001b[39m LabelEncoder()\n\u001b[0;32m      <a href='vscode-notebook-cell:/d%3A/Project/BigHomework/RoadTrafficInjury/test.ipynb#ch0000024?line=1'>2</a>\u001b[0m \u001b[39mfor\u001b[39;00m i \u001b[39min\u001b[39;00m datasetNewDF:\n\u001b[1;32m----> <a href='vscode-notebook-cell:/d%3A/Project/BigHomework/RoadTrafficInjury/test.ipynb#ch0000024?line=2'>3</a>\u001b[0m     datasetNewDF[i] \u001b[39m=\u001b[39m labelEncoder\u001b[39m.\u001b[39mfit_transform(datasetNewDF[i])\n\u001b[0;32m      <a href='vscode-notebook-cell:/d%3A/Project/BigHomework/RoadTrafficInjury/test.ipynb#ch0000024?line=4'>5</a>\u001b[0m \u001b[39mprint\u001b[39m(datasetNewDF)\n",
      "\u001b[1;31mIndexError\u001b[0m: arrays used as indices must be of integer (or boolean) type"
     ]
    }
   ],
   "source": [
    "labelEncoder = LabelEncoder()\n",
    "for i in datasetNewDF:\n",
    "    datasetNewDF[i] = labelEncoder.fit_transform(datasetNewDF[i])\n",
    "    \n",
    "print(datasetNewDF)"
   ]
  },
  {
   "cell_type": "code",
   "execution_count": 84,
   "metadata": {},
   "outputs": [
    {
     "name": "stdout",
     "output_type": "stream",
     "text": [
      "0     乌黑\n",
      "1     乌黑\n",
      "2     乌黑\n",
      "3     青绿\n",
      "4     乌黑\n",
      "5     青绿\n",
      "6     乌黑\n",
      "7     乌黑\n",
      "8     乌黑\n",
      "9     青绿\n",
      "10    浅白\n",
      "11    浅白\n",
      "12    乌黑\n",
      "13    浅白\n",
      "14    乌黑\n",
      "15    浅白\n",
      "16    青绿\n",
      "Name: 色泽, dtype: object\n"
     ]
    }
   ],
   "source": [
    "mapx = {0:'乌黑',1:'浅白',2:'青绿'}\n",
    "datasetNewDF['色泽'] = datasetNewDF['色泽'].map(mapx)\n",
    "print(datasetNewDF['色泽'])"
   ]
  }
 ],
 "metadata": {
  "interpreter": {
   "hash": "8809126b2e3f6bd67afd8dec0aaf136102c3339cf179547b748c69a78a732e29"
  },
  "kernelspec": {
   "display_name": "Python 3.8.13 ('ML')",
   "language": "python",
   "name": "python3"
  },
  "language_info": {
   "codemirror_mode": {
    "name": "ipython",
    "version": 3
   },
   "file_extension": ".py",
   "mimetype": "text/x-python",
   "name": "python",
   "nbconvert_exporter": "python",
   "pygments_lexer": "ipython3",
   "version": "3.8.13"
  },
  "orig_nbformat": 4
 },
 "nbformat": 4,
 "nbformat_minor": 2
}
