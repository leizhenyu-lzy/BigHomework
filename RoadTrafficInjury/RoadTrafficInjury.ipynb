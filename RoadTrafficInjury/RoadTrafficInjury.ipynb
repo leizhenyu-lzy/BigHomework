{
 "cells": [
  {
   "cell_type": "markdown",
   "metadata": {},
   "source": [
    "# 道路交通事故受伤预测"
   ]
  },
  {
   "cell_type": "markdown",
   "metadata": {},
   "source": [
    "## 导入必要的包"
   ]
  },
  {
   "cell_type": "code",
   "execution_count": 37,
   "metadata": {},
   "outputs": [],
   "source": [
    "import numpy as np\n",
    "import pandas as pd\n",
    "\n",
    "# from IPython.display import display, display_html , HTML\n",
    "\n",
    "import matplotlib.pyplot as plt\n",
    "# import seaborn as sns\n",
    "# from sklearn.decomposition import PCA\n",
    "\n",
    "# from sklearn.model_selection import train_test_split\n",
    "\n",
    "# from sklearn.metrics import f1_score, accuracy_score, confusion_matrix, classification_report, roc_curve\n",
    "# from sklearn.model_selection import learning_curve, cross_val_score, GridSearchCV\n",
    "# from sklearn.model_selection import train_test_split\n",
    "\n",
    "# from sklearn.ensemble import RandomForestClassifier, AdaBoostClassifier\n",
    "# from sklearn.svm import SVC\n",
    "from sklearn.pipeline import make_pipeline\n",
    "# from sklearn.neighbors import KNeighborsClassifier\n",
    "# from sklearn.linear_model import LogisticRegression\n",
    "# from sklearn.preprocessing import RobustScaler,StandardScaler,MinMaxScaler\n",
    "\n",
    "from sklearn.impute import SimpleImputer\n",
    "\n",
    "import warnings\n",
    "warnings.filterwarnings('ignore')\n",
    "\n",
    "\n",
    "# 为了在Jupyter Notebook中显示图片的必须配置项\n",
    "%matplotlib inline\n",
    "# 用兼容字体解决中文显示为方格的问题\n",
    "plt.rcParams['font.sans-serif'] = ['SimHei']\n",
    "plt.rcParams['font.serif'] = ['SimHei']\n",
    "plt.rcParams['font.family'] = 'sans-serif'\n",
    "# 解决保存图像是负号'-'显示为方块的问题\n",
    "plt.rcParams['axes.unicode_minus'] = False"
   ]
  },
  {
   "cell_type": "markdown",
   "metadata": {},
   "source": [
    "## 常量&全局变量定义"
   ]
  },
  {
   "cell_type": "code",
   "execution_count": 38,
   "metadata": {},
   "outputs": [],
   "source": [
    "# 没有用的特征名列表，方便eval和test时丢弃\n",
    "unusedFeatureList = []\n",
    "# 各个特征最可能的值，用于填补空缺。 key为特征名，value为特征的最可能值\n",
    "featureMostfreqValueDict = {}"
   ]
  },
  {
   "cell_type": "markdown",
   "metadata": {},
   "source": [
    "## 函数定义"
   ]
  },
  {
   "cell_type": "code",
   "execution_count": 39,
   "metadata": {},
   "outputs": [],
   "source": [
    "def countDFNull(aimDF):\n",
    "    nullAmount = aimDF.isnull().sum().sum()\n",
    "    print(\"Null数量 : \", nullAmount)\n",
    "    return nullAmount"
   ]
  },
  {
   "cell_type": "code",
   "execution_count": null,
   "metadata": {},
   "outputs": [],
   "source": []
  },
  {
   "cell_type": "markdown",
   "metadata": {},
   "source": [
    "## 读取数据集"
   ]
  },
  {
   "cell_type": "code",
   "execution_count": 40,
   "metadata": {},
   "outputs": [
    {
     "name": "stdout",
     "output_type": "stream",
     "text": [
      "读取trainDataset\n",
      "读取evalDataset\n",
      "读取testDataset\n",
      "DF Name :  train dataset   DF Shape :  (79786, 54)\n",
      "DF Name :  eval dataset   DF Shape :  (2836, 54)\n",
      "DF Name :  test dataset   DF Shape :  (2836, 53)\n"
     ]
    }
   ],
   "source": [
    "print(\"读取trainDataset\")\n",
    "trainDatasetDF = pd.read_csv('dataset/train.csv', header=0, index_col=None)\n",
    "trainDatasetDF.Name = 'train dataset'\n",
    "# print(trainDatasetDF.head(2))\n",
    "\n",
    "print(\"读取evalDataset\")\n",
    "evalDatasetDF = pd.read_csv('dataset/val.csv', header=0, index_col=0)\n",
    "evalDatasetDF.Name = 'eval dataset'\n",
    "# print(evalDatasetDF.head(2))\n",
    "\n",
    "print(\"读取testDataset\")\n",
    "testDatasetDF = pd.read_csv('dataset/test.csv', header=0, index_col=0)\n",
    "testDatasetDF.Name = 'test dataset'\n",
    "# print(testDatasetDF.head(2))\n",
    "\n",
    "\n",
    "datasetDFList = [trainDatasetDF,evalDatasetDF,testDatasetDF]\n",
    "\n",
    "for df in datasetDFList:\n",
    "    print(\"DF Name : \", df.Name, \"  DF Shape : \", df.shape)"
   ]
  },
  {
   "cell_type": "markdown",
   "metadata": {},
   "source": [
    "## 数据清洗"
   ]
  },
  {
   "cell_type": "code",
   "execution_count": 41,
   "metadata": {},
   "outputs": [],
   "source": [
    "topBadFeatureNumbers = 20  # 展示缺失样本最多的特征的数量，全部展示太长了\n",
    "\n",
    "badFeatureMaxMissingSample = 500  # 若某个特征缺失的样本数量超过该值，认定为坏特征\n",
    "badSampleMaxMissingFeature = 1  # 若某个样本缺失的特征超过该值，认定为坏样本"
   ]
  },
  {
   "cell_type": "markdown",
   "metadata": {},
   "source": [
    "### 找出sample较少的feature"
   ]
  },
  {
   "cell_type": "code",
   "execution_count": 42,
   "metadata": {},
   "outputs": [
    {
     "name": "stdout",
     "output_type": "stream",
     "text": [
      "type :  <class 'pandas.core.series.Series'>\n",
      "缺失500个以上样本的特征数量 :  13\n",
      "{'lartpc': 79508, 'larrout': 79277, 'occutc': 78639, 'v2': 73891, 'v1': 14997, 'pr1': 10096, 'pr': 9672, 'circ': 4255, 'voie': 3712, 'vma': 1287, 'vosp': 1034, 'nbv': 1019, 'adr': 808}\n"
     ]
    }
   ],
   "source": [
    "# 对所有特征（每一列）进行null值统计\n",
    "trainFeatureNullSeries = trainDatasetDF.isnull().sum().sort_values(ascending=False)  # 降序排列\n",
    "print(\"type : \", type(trainFeatureNullSeries))\n",
    "# averageTrainFeatureNull = trainFeatureNullSeries.sum()/len(trainFeatureNullSeries)\n",
    "# print(\"averageTrainFeatureNull : \", averageTrainFeatureNull)\n",
    "trainFeatureNullDict = trainFeatureNullSeries.to_dict()\n",
    "badTrainFeatureDict = {key:trainFeatureNullDict[key] for key in trainFeatureNullDict if trainFeatureNullSeries[key] > badFeatureMaxMissingSample}\n",
    "print(\"缺失%d个以上样本的特征数量 : \"%badFeatureMaxMissingSample, len(badTrainFeatureDict))\n",
    "print(badTrainFeatureDict)"
   ]
  },
  {
   "cell_type": "code",
   "execution_count": 43,
   "metadata": {},
   "outputs": [
    {
     "data": {
      "text/plain": [
       "Text(0.5, 1.0, '缺失样本数量最多的Top20特征 柱状图')"
      ]
     },
     "execution_count": 43,
     "metadata": {},
     "output_type": "execute_result"
    },
    {
     "data": {
      "image/png": "[encoded data removed]",
      "text/plain": [
       "<Figure size 1080x216 with 1 Axes>"
      ]
     },
     "metadata": {
      "needs_background": "light"
     },
     "output_type": "display_data"
    }
   ],
   "source": [
    "# 可视化展示特征，缺失样本的数量\n",
    "plt.figure(figsize=(15,3))\n",
    "plt.grid()\n",
    "plt.bar(x=trainFeatureNullSeries.index[0:topBadFeatureNumbers], height=trainFeatureNullSeries.values[0:topBadFeatureNumbers])\n",
    "plt.xlabel(\"特征名称\")\n",
    "plt.ylabel(\"特征缺失样本数量\")\n",
    "plt.title(\"缺失样本数量最多的Top%d特征 柱状图\"%topBadFeatureNumbers)"
   ]
  },
  {
   "cell_type": "code",
   "execution_count": 44,
   "metadata": {},
   "outputs": [
    {
     "name": "stdout",
     "output_type": "stream",
     "text": [
      "unusedFeatureList :  ['lartpc', 'larrout', 'occutc', 'v2', 'v1', 'pr1', 'pr', 'circ', 'voie', 'vma', 'vosp', 'nbv', 'adr']\n",
      "(79786, 41)\n"
     ]
    }
   ],
   "source": [
    "# 删除选出的bad feature整列\n",
    "unusedFeatureList.extend(badTrainFeatureDict.keys())\n",
    "print('unusedFeatureList : ', unusedFeatureList)\n",
    "\n",
    "trainDatasetDF.drop(columns=badTrainFeatureDict.keys(), inplace=True)\n",
    "print(trainDatasetDF.shape)"
   ]
  },
  {
   "cell_type": "code",
   "execution_count": 45,
   "metadata": {},
   "outputs": [
    {
     "name": "stdout",
     "output_type": "stream",
     "text": [
      "type :  <class 'pandas.core.series.Series'>\n",
      "{'situ': 302, 'infra': 226, 'surf': 190, 'prof': 185, 'plan': 176, 'atm': 163, 'jour': 163, 'catr': 163, 'long': 163, 'col': 163, 'lat': 163, 'int': 163, 'agg': 163, 'com': 163, 'dep': 163}\n"
     ]
    },
    {
     "data": {
      "text/plain": [
       "Text(0.5, 1.0, '删除坏特征后的特征缺失情况 柱状图')"
      ]
     },
     "execution_count": 45,
     "metadata": {},
     "output_type": "execute_result"
    },
    {
     "data": {
      "image/png": "[encoded data removed]",
      "text/plain": [
       "<Figure size 1080x216 with 1 Axes>"
      ]
     },
     "metadata": {
      "needs_background": "light"
     },
     "output_type": "display_data"
    }
   ],
   "source": [
    "# 统计删除后的特征缺失情况\n",
    "trainFeatureNullSeries = trainDatasetDF.isnull().sum().sort_values(ascending=False)  # 降序排列\n",
    "print(\"type : \", type(trainFeatureNullSeries))\n",
    "print(trainFeatureNullSeries.head(15).to_dict())\n",
    "\n",
    "# 可视化展示特征，缺失样本的数量\n",
    "plt.figure(figsize=(15,3))\n",
    "plt.grid()\n",
    "plt.bar(x=trainFeatureNullSeries.index[0:10], height=trainFeatureNullSeries.values[0:10])\n",
    "plt.xlabel(\"特征名称\")\n",
    "plt.ylabel(\"特征缺失样本数量\")\n",
    "plt.title(\"删除坏特征后的特征缺失情况 柱状图\")"
   ]
  },
  {
   "cell_type": "code",
   "execution_count": null,
   "metadata": {},
   "outputs": [],
   "source": []
  },
  {
   "cell_type": "markdown",
   "metadata": {},
   "source": [
    "### 找出feature较少的sample"
   ]
  },
  {
   "cell_type": "code",
   "execution_count": 46,
   "metadata": {},
   "outputs": [
    {
     "name": "stdout",
     "output_type": "stream",
     "text": [
      "type :  <class 'pandas.core.series.Series'>\n",
      "缺失1个以上特征的样本数量 :  181\n",
      "{14951: 19, 56986: 19, 41678: 19, 56992: 19, 56991: 19, 15726: 19, 41677: 19, 41597: 19, 39022: 19, 40418: 19, 40417: 19, 40215: 19, 48658: 19, 52159: 19, 52160: 19, 74093: 19, 78644: 19, 74094: 19, 5045: 19, 10723: 19, 41784: 19, 14926: 19, 70809: 19, 24282: 19, 59932: 19, 59931: 19, 69083: 19, 55953: 19, 10904: 19, 10903: 19, 74746: 19, 74747: 19, 14953: 19, 14952: 19, 54032: 19, 32845: 19, 37693: 19, 37692: 19, 45758: 19, 45757: 19, 37691: 19, 37690: 19, 78660: 19, 55954: 19, 31389: 19, 14925: 19, 71574: 19, 45741: 19, 58847: 19, 61454: 19, 11887: 19, 67785: 19, 67784: 19, 67783: 19, 30127: 19, 66939: 19, 61328: 19, 61005: 19, 16441: 19, 61004: 19, 61003: 19, 35970: 19, 62160: 19, 62163: 19, 48839: 19, 35969: 19, 48838: 19, 48837: 19, 58848: 19, 47717: 19, 71771: 19, 45193: 19, 67664: 19, 65857: 19, 65858: 19, 45740: 19, 45739: 19, 45738: 19, 71772: 19, 52181: 19, 52182: 19, 6642: 19, 47726: 19, 21581: 19, 21582: 19, 47725: 19, 18945: 19, 21584: 19, 6643: 19, 10839: 19, 45192: 19, 58465: 19, 54031: 19, 50074: 19, 58445: 19, 6444: 19, 63186: 19, 25316: 19, 2256: 19, 72690: 19, 36350: 19, 32107: 19, 54849: 19, 36497: 19, 37765: 19, 56113: 19, 78319: 19, 1109: 19, 77593: 19, 63185: 19, 54848: 19, 30440: 19, 22725: 19, 2215: 19, 42836: 19, 26195: 19, 79095: 19, 68678: 19, 68677: 19, 27871: 19, 67640: 19, 6443: 19, 78366: 19, 63184: 19, 70778: 19, 14069: 19, 50073: 19, 78318: 19, 56112: 19, 37766: 19, 12268: 19, 23232: 19, 67738: 19, 67739: 19, 48912: 19, 48911: 19, 51844: 19, 59365: 19, 56111: 19, 18345: 19, 59366: 19, 59367: 19, 72689: 19, 50071: 19, 50072: 19, 23782: 19, 79536: 19, 79535: 19, 23231: 19, 49982: 19, 45471: 19, 45472: 19, 63187: 19, 49981: 19, 49980: 19, 591: 19, 56110: 19, 590: 19, 42403: 19, 42404: 19, 589: 19, 69080: 19, 22726: 19, 7593: 5, 78814: 5, 58291: 5, 78813: 5, 23792: 5, 29178: 5, 7620: 5, 23793: 5, 7619: 5, 70608: 5, 3284: 4, 3285: 4, 36351: 3, 10766: 2, 1195: 2, 78646: 2, 78647: 2, 10767: 2}\n"
     ]
    }
   ],
   "source": [
    "# 对所有样本（每一行）进行null值统计\n",
    "trainSampleNullSeries = trainDatasetDF.T.isnull().sum().sort_values(ascending=False) # 倒序排列\n",
    "trainSampleNullDict = trainSampleNullSeries.to_dict()\n",
    "print(\"type : \", type(trainSampleNullSeries))\n",
    "\n",
    "badTrainSampleDict = {key:trainSampleNullDict[key] for key in trainSampleNullDict if trainSampleNullDict[key] > badSampleMaxMissingFeature}\n",
    "print(\"缺失%d个以上特征的样本数量 : \"%badSampleMaxMissingFeature, len(badTrainSampleDict))\n",
    "print(badTrainSampleDict)\n",
    "# averageTrainSampleNull = trainSampleNullSeries.sum()/len(trainSampleNullSeries)\n",
    "# print(\"averageTrainSampleNull : \", averageTrainSampleNull)"
   ]
  },
  {
   "cell_type": "code",
   "execution_count": 24,
   "metadata": {},
   "outputs": [
    {
     "name": "stdout",
     "output_type": "stream",
     "text": [
      "(79623, 41)\n"
     ]
    }
   ],
   "source": [
    "# 删除选出的bad sample整行\n",
    "trainDatasetDF.drop(index=badTrainSampleDict.keys(), inplace=True)\n",
    "print(trainDatasetDF.shape)"
   ]
  },
  {
   "cell_type": "code",
   "execution_count": 50,
   "metadata": {},
   "outputs": [
    {
     "name": "stdout",
     "output_type": "stream",
     "text": [
      "41\n"
     ]
    }
   ],
   "source": []
  },
  {
   "cell_type": "markdown",
   "metadata": {},
   "source": [
    "### 找出值不具有参考性的特征"
   ]
  },
  {
   "cell_type": "code",
   "execution_count": 26,
   "metadata": {},
   "outputs": [],
   "source": [
    "# 特征的值的可能太多和太少都不具有参考性\n",
    "tooMuchValueFeatureThreshold = 300  # 如果特征的可能的指多于该数，认定为没有参考性\n",
    "tooLessValueFeatureThreshold = 2  # 如果特征的可能的指少于该数，认定为没有参考性"
   ]
  },
  {
   "cell_type": "code",
   "execution_count": 30,
   "metadata": {},
   "outputs": [
    {
     "name": "stdout",
     "output_type": "stream",
     "text": [
      "{'Num_Acc': 48304, 'jour': 31, 'mois': 12, 'an': 1, 'hrmn': 1347, 'lum': 5, 'dep': 107, 'com': 10018, 'agg': 2, 'int': 9, 'atm': 10, 'col': 8, 'lat': 46055, 'long': 46428, 'catr': 8, 'prof': 4, 'plan': 4, 'surf': 9, 'infra': 10, 'situ': 7, 'id_vehicule': 65846, 'num_veh': 27, 'place': 10, 'catu': 3, 'grav': 4, 'sexe': 2, 'an_nais': 103, 'trajet': 8, 'secu1': 11, 'secu2': 11, 'secu3': 10, 'locp': 11, 'actp': 13, 'etatp': 4, 'senc': 5, 'catv': 31, 'obs': 19, 'obsm': 8, 'choc': 11, 'manv': 28, 'motor': 8}\n",
      "tooMuchValueFeatureList :  ['Num_Acc', 'hrmn', 'com', 'lat', 'long', 'id_vehicule']\n",
      "tooLessValueFeatureList :  ['an']\n"
     ]
    }
   ],
   "source": [
    "featureValueCountDict = {}\n",
    "# 输出各个特征值对应的特征数量\n",
    "for loopIdx, colName in enumerate(trainDatasetDF):\n",
    "    tempSeries = trainDatasetDF[colName]\n",
    "    tempSeriesValueCountDict = tempSeries.value_counts().to_dict()\n",
    "    # print(\"特征\", colName, \"共有%d个可能值\"%len(tempSeriesValueCountDict))\n",
    "    featureValueCountDict[colName] = len(tempSeriesValueCountDict)\n",
    "\n",
    "print(featureValueCountDict)\n",
    "\n",
    "tooMuchValueFeatureList = [feature for feature in featureValueCountDict if featureValueCountDict[feature] > tooMuchValueFeatureThreshold]\n",
    "tooLessValueFeatureList = [feature for feature in featureValueCountDict if featureValueCountDict[feature] < tooLessValueFeatureThreshold]\n",
    "\n",
    "print(\"tooMuchValueFeatureList : \", tooMuchValueFeatureList)\n",
    "print(\"tooLessValueFeatureList : \", tooLessValueFeatureList)"
   ]
  },
  {
   "cell_type": "code",
   "execution_count": 32,
   "metadata": {},
   "outputs": [
    {
     "name": "stdout",
     "output_type": "stream",
     "text": [
      "unusedFeatureList :  ['Num_Acc', 'hrmn', 'com', 'lat', 'long', 'id_vehicule', 'an']\n"
     ]
    }
   ],
   "source": [
    "unusedFeatureList.extend(tooMuchValueFeatureList)\n",
    "unusedFeatureList.extend(tooLessValueFeatureList)\n",
    "\n",
    "print(\"unusedFeatureList : \", unusedFeatureList)"
   ]
  },
  {
   "cell_type": "code",
   "execution_count": 36,
   "metadata": {},
   "outputs": [
    {
     "name": "stdout",
     "output_type": "stream",
     "text": [
      "(79623, 34)\n"
     ]
    }
   ],
   "source": [
    "trainDatasetDF.drop(columns=unusedFeatureList, inplace=True)\n",
    "print(trainDatasetDF.shape)"
   ]
  },
  {
   "cell_type": "code",
   "execution_count": 49,
   "metadata": {},
   "outputs": [
    {
     "name": "stdout",
     "output_type": "stream",
     "text": [
      "jour float64 31\n",
      "mois float64 12\n",
      "lum float64 5\n",
      "dep object 107\n",
      "agg float64 2\n",
      "int float64 9\n",
      "atm float64 10\n",
      "col float64 8\n",
      "catr float64 8\n",
      "prof float64 4\n",
      "plan float64 4\n",
      "surf float64 9\n",
      "infra float64 10\n",
      "situ float64 7\n",
      "num_veh object 27\n",
      "place int64 10\n",
      "catu int64 3\n",
      "grav int64 4\n",
      "sexe int64 2\n",
      "an_nais int64 103\n",
      "trajet int64 8\n",
      "secu1 int64 11\n",
      "secu2 int64 11\n",
      "secu3 int64 10\n",
      "locp int64 11\n",
      "actp object 13\n",
      "etatp int64 4\n",
      "senc int64 5\n",
      "catv int64 31\n",
      "obs int64 19\n",
      "obsm int64 8\n",
      "choc int64 11\n",
      "manv int64 28\n",
      "motor int64 8\n"
     ]
    }
   ],
   "source": [
    "for featureName in trainDatasetDF:\n",
    "    featureType = trainDatasetDF[featureName].dtype\n",
    "    print(featureName, featureType, featureValueCountDict[featureName])\n",
    "\n",
    "# 查看类型为object的feature"
   ]
  },
  {
   "cell_type": "code",
   "execution_count": null,
   "metadata": {},
   "outputs": [],
   "source": []
  },
  {
   "cell_type": "code",
   "execution_count": null,
   "metadata": {},
   "outputs": [],
   "source": []
  },
  {
   "cell_type": "code",
   "execution_count": null,
   "metadata": {},
   "outputs": [],
   "source": []
  },
  {
   "cell_type": "code",
   "execution_count": null,
   "metadata": {},
   "outputs": [],
   "source": []
  },
  {
   "cell_type": "markdown",
   "metadata": {},
   "source": [
    "### 统计清洗后空值数量"
   ]
  },
  {
   "cell_type": "code",
   "execution_count": 12,
   "metadata": {},
   "outputs": [
    {
     "name": "stdout",
     "output_type": "stream",
     "text": [
      "264\n"
     ]
    }
   ],
   "source": [
    "nullAfterClean = trainDatasetDF.isnull().sum().sum()\n",
    "print(nullAfterClean)"
   ]
  },
  {
   "cell_type": "code",
   "execution_count": null,
   "metadata": {},
   "outputs": [],
   "source": []
  },
  {
   "cell_type": "code",
   "execution_count": null,
   "metadata": {},
   "outputs": [],
   "source": []
  },
  {
   "cell_type": "code",
   "execution_count": null,
   "metadata": {},
   "outputs": [],
   "source": []
  },
  {
   "cell_type": "markdown",
   "metadata": {},
   "source": [
    "## 缺失值填充 "
   ]
  },
  {
   "cell_type": "code",
   "execution_count": 29,
   "metadata": {},
   "outputs": [],
   "source": [
    "trainImputer = SimpleImputer(missing_values=np.nan, strategy='most_frequent')"
   ]
  },
  {
   "cell_type": "code",
   "execution_count": 30,
   "metadata": {},
   "outputs": [],
   "source": [
    "trainDatasetDF = trainImputer.fit_transform(trainDatasetDF)"
   ]
  },
  {
   "cell_type": "code",
   "execution_count": 41,
   "metadata": {},
   "outputs": [
    {
     "name": "stdout",
     "output_type": "stream",
     "text": [
      "Null数量 :  264\n",
      "264\n"
     ]
    }
   ],
   "source": [
    "nullAfterClean = countDFNull(trainDatasetDF)\n",
    "print(nullAfterClean)"
   ]
  },
  {
   "cell_type": "markdown",
   "metadata": {},
   "source": [
    "## 数据重采样 "
   ]
  },
  {
   "cell_type": "markdown",
   "metadata": {},
   "source": [
    "### 查看训练集标签分布"
   ]
  },
  {
   "cell_type": "code",
   "execution_count": 26,
   "metadata": {},
   "outputs": [
    {
     "name": "stdout",
     "output_type": "stream",
     "text": [
      "1    33205\n",
      "4    31839\n",
      "3    12505\n",
      "2     2074\n",
      "Name: grav, dtype: int64\n",
      "33205\n"
     ]
    }
   ],
   "source": [
    "countTrainDatasetLabel = trainDatasetDF['grav'].value_counts()\n",
    "print(countTrainDatasetLabel)\n",
    "maxTrainLabelAmount = countTrainDatasetLabel.max()\n",
    "print(maxTrainLabelAmount)"
   ]
  },
  {
   "cell_type": "code",
   "execution_count": 24,
   "metadata": {},
   "outputs": [
    {
     "data": {
      "text/plain": [
       "<BarContainer object of 4 artists>"
      ]
     },
     "execution_count": 24,
     "metadata": {},
     "output_type": "execute_result"
    },
    {
     "data": {
      "image/png": "[encoded data removed]",
      "text/plain": [
       "<Figure size 720x360 with 1 Axes>"
      ]
     },
     "metadata": {
      "needs_background": "light"
     },
     "output_type": "display_data"
    }
   ],
   "source": [
    "plt.figure(figsize=(10,5))\n",
    "plt.title(\"训练集样本标签分布\")\n",
    "plt.xlabel('标签名称')\n",
    "plt.ylabel('标签数量')\n",
    "plt.grid()\n",
    "plt.xticks(labels=['Unharmed','Killed','Hospitalized','Slightly'], ticks=[1,2,3,4])\n",
    "plt.bar(x=countTrainDatasetLabel.index, height=countTrainDatasetLabel.values)"
   ]
  },
  {
   "cell_type": "code",
   "execution_count": 25,
   "metadata": {},
   "outputs": [
    {
     "name": "stdout",
     "output_type": "stream",
     "text": [
      "(33205, 41)\n",
      "(2074, 41)\n",
      "(12505, 41)\n",
      "(31839, 41)\n"
     ]
    }
   ],
   "source": [
    "# 1. Unharmed # 2. Killed # 3. Injured hospitalized # 4. Slightly injured \n",
    "trainUnharmedDF = trainDatasetDF.groupby('grav').get_group(1)\n",
    "trainKilledDF = trainDatasetDF.groupby('grav').get_group(2)\n",
    "trainHospitalizedDF = trainDatasetDF.groupby('grav').get_group(3)\n",
    "trainSlightlyDF = trainDatasetDF.groupby('grav').get_group(4)\n",
    "\n",
    "print(trainUnharmedDF.shape)\n",
    "print(trainKilledDF.shape)\n",
    "print(trainHospitalizedDF.shape)\n",
    "print(trainSlightlyDF.shape)"
   ]
  },
  {
   "cell_type": "code",
   "execution_count": 29,
   "metadata": {},
   "outputs": [
    {
     "name": "stdout",
     "output_type": "stream",
     "text": [
      "33205\n",
      "33205\n",
      "33205\n",
      "33205\n",
      "<class 'pandas.core.frame.DataFrame'>\n",
      "Int64Index: 132820 entries, 1 to 48653\n",
      "Data columns (total 41 columns):\n",
      " #   Column       Non-Null Count   Dtype  \n",
      "---  ------       --------------   -----  \n",
      " 0   Num_Acc      132820 non-null  int64  \n",
      " 1   jour         132820 non-null  float64\n",
      " 2   mois         132820 non-null  float64\n",
      " 3   an           132820 non-null  float64\n",
      " 4   hrmn         132820 non-null  float64\n",
      " 5   lum          132820 non-null  float64\n",
      " 6   dep          132820 non-null  object \n",
      " 7   com          132820 non-null  object \n",
      " 8   agg          132820 non-null  float64\n",
      " 9   int          132820 non-null  float64\n",
      " 10  atm          132820 non-null  float64\n",
      " 11  col          132820 non-null  float64\n",
      " 12  lat          132820 non-null  float64\n",
      " 13  long         132820 non-null  float64\n",
      " 14  catr         132820 non-null  float64\n",
      " 15  prof         132734 non-null  float64\n",
      " 16  plan         132747 non-null  float64\n",
      " 17  surf         132720 non-null  float64\n",
      " 18  infra        132687 non-null  float64\n",
      " 19  situ         132574 non-null  float64\n",
      " 20  id_vehicule  132820 non-null  object \n",
      " 21  num_veh      132820 non-null  object \n",
      " 22  place        132820 non-null  int64  \n",
      " 23  catu         132820 non-null  int64  \n",
      " 24  grav         132820 non-null  int64  \n",
      " 25  sexe         132820 non-null  int64  \n",
      " 26  an_nais      132820 non-null  int64  \n",
      " 27  trajet       132820 non-null  int64  \n",
      " 28  secu1        132820 non-null  int64  \n",
      " 29  secu2        132820 non-null  int64  \n",
      " 30  secu3        132820 non-null  int64  \n",
      " 31  locp         132820 non-null  int64  \n",
      " 32  actp         132820 non-null  object \n",
      " 33  etatp        132820 non-null  int64  \n",
      " 34  senc         132820 non-null  int64  \n",
      " 35  catv         132820 non-null  int64  \n",
      " 36  obs          132820 non-null  int64  \n",
      " 37  obsm         132820 non-null  int64  \n",
      " 38  choc         132820 non-null  int64  \n",
      " 39  manv         132820 non-null  int64  \n",
      " 40  motor        132820 non-null  int64  \n",
      "dtypes: float64(17), int64(19), object(5)\n",
      "memory usage: 42.6+ MB\n",
      "None\n"
     ]
    }
   ],
   "source": [
    "overSampleTrainUnharmedDF = trainUnharmedDF\n",
    "overSampleTrainKilledDF = trainKilledDF.sample(n=maxTrainLabelAmount, replace=True, random_state=42)\n",
    "overSampleTrainHospitalizedDF = trainHospitalizedDF.sample(n=maxTrainLabelAmount, replace=True, random_state=42)\n",
    "overSampleTrainSlightlyDF = trainSlightlyDF.sample(n=maxTrainLabelAmount, replace=True, random_state=42)\n",
    "\n",
    "print(len(overSampleTrainUnharmedDF))\n",
    "print(len(overSampleTrainKilledDF))\n",
    "print(len(overSampleTrainHospitalizedDF))\n",
    "print(len(overSampleTrainSlightlyDF))\n",
    "\n",
    "overSampleTrainDatasetDF = pd.concat([overSampleTrainUnharmedDF, overSampleTrainKilledDF, overSampleTrainHospitalizedDF, overSampleTrainSlightlyDF])\n",
    "\n",
    "print(overSampleTrainDatasetDF.info())"
   ]
  },
  {
   "cell_type": "markdown",
   "metadata": {},
   "source": [
    "## 模型训练"
   ]
  },
  {
   "cell_type": "code",
   "execution_count": 32,
   "metadata": {},
   "outputs": [
    {
     "name": "stdout",
     "output_type": "stream",
     "text": [
      "0        4\n",
      "1        1\n",
      "2        1\n",
      "3        4\n",
      "4        4\n",
      "        ..\n",
      "79781    1\n",
      "79782    4\n",
      "79783    1\n",
      "79784    4\n",
      "79785    4\n",
      "Name: grav, Length: 79623, dtype: int64\n"
     ]
    }
   ],
   "source": [
    "trainXDF = trainDatasetDF.drop(columns=['grav'])\n",
    "trainYDF = trainDatasetDF.loc[:, 'grav']\n",
    "evalXDF = evalDatasetDF.drop(columns=['grav'])\n",
    "evalYDF = evalDatasetDF.loc[:, 'grav']"
   ]
  },
  {
   "cell_type": "code",
   "execution_count": null,
   "metadata": {},
   "outputs": [],
   "source": [
    "preprocessorPipeline = make_pipeline()\n",
    "\n",
    "randomForestPipeline = make_pipeline(preprocessorPipeline, )\n",
    "adaBoostPipeline = make_pipeline(preprocessorPipeline, )\n",
    "\n"
   ]
  },
  {
   "cell_type": "code",
   "execution_count": null,
   "metadata": {},
   "outputs": [],
   "source": []
  },
  {
   "cell_type": "code",
   "execution_count": null,
   "metadata": {},
   "outputs": [],
   "source": []
  },
  {
   "cell_type": "code",
   "execution_count": null,
   "metadata": {},
   "outputs": [],
   "source": []
  },
  {
   "cell_type": "code",
   "execution_count": null,
   "metadata": {},
   "outputs": [],
   "source": []
  },
  {
   "cell_type": "code",
   "execution_count": null,
   "metadata": {},
   "outputs": [],
   "source": []
  },
  {
   "cell_type": "code",
   "execution_count": 29,
   "metadata": {},
   "outputs": [
    {
     "name": "stdout",
     "output_type": "stream",
     "text": [
      "<built-in method keys of dict object at 0x000001F705223200>\n"
     ]
    }
   ],
   "source": []
  }
 ],
 "metadata": {
  "interpreter": {
   "hash": "8809126b2e3f6bd67afd8dec0aaf136102c3339cf179547b748c69a78a732e29"
  },
  "kernelspec": {
   "display_name": "Python 3.8.13 ('ML')",
   "language": "python",
   "name": "python3"
  },
  "language_info": {
   "codemirror_mode": {
    "name": "ipython",
    "version": 3
   },
   "file_extension": ".py",
   "mimetype": "text/x-python",
   "name": "python",
   "nbconvert_exporter": "python",
   "pygments_lexer": "ipython3",
   "version": "3.8.13"
  },
  "orig_nbformat": 4
 },
 "nbformat": 4,
 "nbformat_minor": 2
}
