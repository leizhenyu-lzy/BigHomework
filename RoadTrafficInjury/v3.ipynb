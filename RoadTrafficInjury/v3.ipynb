{
 "cells": [
  {
   "cell_type": "code",
   "execution_count": 213,
   "metadata": {},
   "outputs": [],
   "source": [
    "import numpy as np\n",
    "import pandas as pd\n",
    "\n",
    "import matplotlib.pyplot as plt\n",
    "%matplotlib inline\n",
    "plt.rcParams['font.sans-serif'] = ['SimHei']\n",
    "plt.rcParams['font.serif'] = ['SimHei']\n",
    "plt.rcParams['font.family'] = 'sans-serif'\n",
    "plt.rcParams['axes.unicode_minus'] = False\n",
    "\n",
    "import seaborn as sns\n",
    "\n",
    "from sklearn.impute import SimpleImputer\n",
    "from sklearn.preprocessing import LabelEncoder\n",
    "from sklearn.ensemble import AdaBoostClassifier, RandomForestClassifier\n",
    "from sklearn.metrics import precision_score,recall_score,f1_score,accuracy_score\n",
    "from sklearn.metrics import confusion_matrix,ConfusionMatrixDisplay\n"
   ]
  },
  {
   "cell_type": "code",
   "execution_count": 214,
   "metadata": {},
   "outputs": [],
   "source": [
    "trainDatasetPath = 'dataset/train.csv'\n",
    "valDatasetPath = 'dataset/val.csv'\n",
    "testDatasetPath = 'dataset/test.csv'\n",
    "\n",
    "tooMuchNullValueFeatureThreshold = 500  # 若某个特征缺失的样本数量超过该值，认定为坏特征\n",
    "tooMuchNullValueSampleThreshold = 5  # 若某个样本缺失的特征超过该值，认定为坏样本\n",
    "tooMuchPossibleValueFeatureThreshold = 300  # 如果特征的可能的值多于该数，认定为没有参考性\n",
    "tooLessPossibleValueFeatureThreshold = 2  # 如果特征的可能的值少于该数，认定为没有参考性"
   ]
  },
  {
   "cell_type": "code",
   "execution_count": 215,
   "metadata": {},
   "outputs": [],
   "source": [
    "unusedFeatureList = []\n",
    "tooMuchNullValueFeatureList = []\n",
    "\n",
    "tooMuchPossibleValueFeatureList = []\n",
    "tooLessPossibleValueFeatureList = []\n",
    "\n",
    "tooMuchNullValueSampleList = []\n"
   ]
  },
  {
   "cell_type": "code",
   "execution_count": 216,
   "metadata": {},
   "outputs": [
    {
     "name": "stdout",
     "output_type": "stream",
     "text": [
      "dataset/train.csv (79786, 54)\n",
      "dataset/val.csv (2836, 54)\n",
      "dataset/test.csv (2836, 53)\n"
     ]
    }
   ],
   "source": [
    "trainDatasetDF = pd.read_csv(filepath_or_buffer=trainDatasetPath, header=0, index_col=None)\n",
    "valDatasetDF = pd.read_csv(filepath_or_buffer=valDatasetPath, header=0, index_col=0)\n",
    "testDatasetDF = pd.read_csv(filepath_or_buffer=testDatasetPath, header=0, index_col=0)\n",
    "\n",
    "# originTrainDatasetDF = pd.read_csv(filepath_or_buffer=trainDatasetPath, header=0, index_col=None)\n",
    "# 查看数据集大小\n",
    "print(trainDatasetPath, trainDatasetDF.shape)\n",
    "print(valDatasetPath, valDatasetDF.shape)\n",
    "print(testDatasetPath, testDatasetDF.shape)"
   ]
  },
  {
   "cell_type": "code",
   "execution_count": 217,
   "metadata": {},
   "outputs": [],
   "source": [
    "def computeLabelDistributeDict(datasetDF):\n",
    "    labelDistributeDict = datasetDF['grav'].value_counts().to_dict()\n",
    "    return labelDistributeDict\n",
    "\n",
    "def plotLabelDistribute(distributeDict, pltTitle='标签分布'):\n",
    "    plt.figure(figsize=(6,3))\n",
    "    plt.title(pltTitle)\n",
    "    plt.xlabel('标签名称')\n",
    "    plt.ylabel('标签数量')\n",
    "    plt.grid()\n",
    "    plt.xticks(labels=['Unharmed','Killed','Hospitalized','Slightly'], ticks=[1,2,3,4])\n",
    "    plt.bar(x=distributeDict.keys(), height=distributeDict.values())\n",
    "    plt.show()"
   ]
  },
  {
   "cell_type": "code",
   "execution_count": 218,
   "metadata": {},
   "outputs": [
    {
     "name": "stdout",
     "output_type": "stream",
     "text": [
      "trainLabelDistribute {1: 33264, 4: 31905, 3: 12537, 2: 2080}\n",
      "valLabelDistribute {1: 745, 4: 724, 2: 713, 3: 654}\n"
     ]
    },
    {
     "data": {
      "image/png": "[encoded data removed]",
      "text/plain": [
       "<Figure size 432x216 with 1 Axes>"
      ]
     },
     "metadata": {
      "needs_background": "light"
     },
     "output_type": "display_data"
    },
    {
     "data": {
      "image/png": "[encoded data removed]",
      "text/plain": [
       "<Figure size 432x216 with 1 Axes>"
      ]
     },
     "metadata": {
      "needs_background": "light"
     },
     "output_type": "display_data"
    }
   ],
   "source": [
    "trainLabelDistribute = computeLabelDistributeDict(trainDatasetDF)\n",
    "print(\"trainLabelDistribute\", trainLabelDistribute)\n",
    "valLabelDistribute = computeLabelDistributeDict(valDatasetDF)\n",
    "print(\"valLabelDistribute\", valLabelDistribute)\n",
    "plotLabelDistribute(trainLabelDistribute, 'Train数据集标签分布')\n",
    "plotLabelDistribute(valLabelDistribute, 'Val数据集标签分布')"
   ]
  },
  {
   "cell_type": "code",
   "execution_count": 219,
   "metadata": {},
   "outputs": [],
   "source": [
    "def countAllNullValue(datasetDF):\n",
    "    nullAmount = datasetDF.isnull().sum().sum()\n",
    "    return nullAmount"
   ]
  },
  {
   "cell_type": "code",
   "execution_count": 220,
   "metadata": {},
   "outputs": [
    {
     "name": "stdout",
     "output_type": "stream",
     "text": [
      "trainDataset 的空值数量 361556\n",
      "valDataset 的空值数量 13081\n",
      "testDataset 的空值数量 13126\n"
     ]
    }
   ],
   "source": [
    "trainDatasetNulls = countAllNullValue(trainDatasetDF)\n",
    "print(\"trainDataset 的空值数量\", trainDatasetNulls)\n",
    "valDatasetNulls = countAllNullValue(valDatasetDF)\n",
    "print(\"valDataset 的空值数量\", valDatasetNulls)\n",
    "testDatasetNulls = countAllNullValue(testDatasetDF)\n",
    "print(\"testDataset 的空值数量\", testDatasetNulls)"
   ]
  },
  {
   "cell_type": "code",
   "execution_count": 221,
   "metadata": {},
   "outputs": [],
   "source": [
    "def computeFeatureNullValue(datasetDF):\n",
    "    featureNullDict = datasetDF.isnull().sum().sort_values(ascending=False).to_dict()\n",
    "    return featureNullDict\n",
    "\n",
    "def showFeatureNullValue(nullSortedDict, tops=20):\n",
    "    plt.figure(figsize=(15,3))\n",
    "    plt.grid()\n",
    "    plt.xlabel(\"特征名称\")\n",
    "    plt.ylabel(\"特征缺失样本数量\")\n",
    "    plt.yscale('log')\n",
    "    plt.title(\"缺失样本数量最多的Top%d特征 柱状图\"%tops)\n",
    "    plt.bar(x=list(nullSortedDict.keys())[0:tops], height=list(nullSortedDict.values())[0:tops])\n",
    "    plt.show()"
   ]
  },
  {
   "cell_type": "code",
   "execution_count": 222,
   "metadata": {},
   "outputs": [
    {
     "name": "stdout",
     "output_type": "stream",
     "text": [
      "['lartpc', 'larrout', 'occutc', 'v2', 'v1', 'pr1', 'pr', 'circ', 'voie', 'vma', 'vosp', 'nbv', 'adr']\n"
     ]
    }
   ],
   "source": [
    "trainDatasetFeatureNullDict = computeFeatureNullValue(trainDatasetDF)\n",
    "valDatasetFeatureNullDict = computeFeatureNullValue(valDatasetDF)\n",
    "testDatasetFeatureNullDict = computeFeatureNullValue(testDatasetDF)\n",
    "\n",
    "\n",
    "tooMuchNullValueFeatureList.extend(key for key in trainDatasetFeatureNullDict if trainDatasetFeatureNullDict[key] > tooMuchNullValueFeatureThreshold)\n",
    "print(tooMuchNullValueFeatureList)"
   ]
  },
  {
   "cell_type": "code",
   "execution_count": 223,
   "metadata": {},
   "outputs": [],
   "source": [
    "trainDatasetDF.drop(columns=tooMuchNullValueFeatureList, inplace=True, errors='ignore')\n",
    "valDatasetDF.drop(columns=tooMuchNullValueFeatureList, inplace=True, errors='ignore')\n",
    "testDatasetDF.drop(columns=tooMuchNullValueFeatureList, inplace=True, errors='ignore')\n",
    "unusedFeatureList.extend(tooMuchNullValueFeatureList)  # 将这些缺失样本过多的特征作为不会使用到的特征"
   ]
  },
  {
   "cell_type": "code",
   "execution_count": 224,
   "metadata": {},
   "outputs": [],
   "source": [
    "def computeSampleNullValue(datasetDF):\n",
    "    sampleNullDict = datasetDF.T.isnull().sum().sort_values(ascending=False).to_dict()\n",
    "    return sampleNullDict"
   ]
  },
  {
   "cell_type": "code",
   "execution_count": 225,
   "metadata": {},
   "outputs": [],
   "source": [
    "tooMuchNullValueSampleList = []\n",
    "trainDatasetSampleNullDict = computeSampleNullValue(trainDatasetDF)\n",
    "tooMuchNullValueSampleList.extend(key for key in trainDatasetSampleNullDict if trainDatasetSampleNullDict[key] > tooMuchNullValueSampleThreshold)\n"
   ]
  },
  {
   "cell_type": "code",
   "execution_count": 226,
   "metadata": {},
   "outputs": [
    {
     "name": "stdout",
     "output_type": "stream",
     "text": [
      "删除后trainDataset的shape :  (79623, 41)\n",
      "trainDataset的空值数量 264\n"
     ]
    }
   ],
   "source": [
    "trainDatasetDF.drop(index=tooMuchNullValueSampleList, inplace=True, errors='ignore')\n",
    "print(\"删除后trainDataset的shape : \", trainDatasetDF.shape)\n",
    "print('trainDataset的空值数量',  countAllNullValue(trainDatasetDF))"
   ]
  },
  {
   "cell_type": "code",
   "execution_count": 227,
   "metadata": {},
   "outputs": [],
   "source": [
    "def recordFeaturePossibleValueDict(datasetDF):\n",
    "    featureAllPossibleValueDict = {}\n",
    "    for featureName in datasetDF:\n",
    "        oneFeaturePossibleValueCountDict = datasetDF[featureName].value_counts().to_dict()\n",
    "        featureAllPossibleValueDict[featureName] = oneFeaturePossibleValueCountDict\n",
    "    return featureAllPossibleValueDict\n",
    "\n",
    "def countFeaturePossibleValueDict(datasetDF):\n",
    "    featurePossiblesValueAmountDict = {}\n",
    "    for featureName in datasetDF:\n",
    "        oneFeaturePossibleValueCountDict = datasetDF[featureName].value_counts().to_dict()\n",
    "        featurePossiblesValueAmountDict[featureName] = len(oneFeaturePossibleValueCountDict)\n",
    "    return featurePossiblesValueAmountDict\n",
    "\n",
    "def showFeaturePossibleValueCount(possiblesValueAmountDict):\n",
    "    plt.figure(figsize=(25,3))\n",
    "    plt.grid()\n",
    "    plt.xlabel(\"特征名称\")\n",
    "    plt.ylabel(\"特征可能值数量(对数显式)\")\n",
    "    plt.yscale('log')\n",
    "    plt.title(\"特征可能值统计 柱状图\")\n",
    "    plt.bar(x=list(possiblesValueAmountDict.keys()), height=list(possiblesValueAmountDict.values()))\n",
    "    plt.show()\n",
    "\n",
    "def showFeaturePossibleValueRecord(possiblesValueRecordDict, subplotCols=5):\n",
    "    subFigNumbers = len(possiblesValueRecordDict)\n",
    "    subplotRows = (subFigNumbers-1)//subplotCols + 1\n",
    "    print('subplotRows : ', subplotRows)\n",
    "    plt.figure(figsize=(25,30))\n",
    "    for idx, subDictKey in enumerate(possiblesValueRecordDict):\n",
    "        subDict = possiblesValueRecordDict[subDictKey]\n",
    "        plt.subplot(subplotRows,subplotCols, idx+1)\n",
    "        plt.title(subDictKey)\n",
    "        plt.xlabel(subDictKey+'的可能值')\n",
    "        plt.ylabel('可能值个数')\n",
    "        plt.grid()\n",
    "        plt.bar(x = list(subDict.keys()), height=list(subDict.values()))"
   ]
  },
  {
   "cell_type": "code",
   "execution_count": 228,
   "metadata": {},
   "outputs": [
    {
     "name": "stdout",
     "output_type": "stream",
     "text": [
      "{'Num_Acc': 48304, 'jour': 31, 'mois': 12, 'an': 1, 'hrmn': 1347, 'lum': 5, 'dep': 107, 'com': 10018, 'agg': 2, 'int': 9, 'atm': 10, 'col': 8, 'lat': 46055, 'long': 46428, 'catr': 8, 'prof': 4, 'plan': 4, 'surf': 9, 'infra': 10, 'situ': 7, 'id_vehicule': 65846, 'num_veh': 27, 'place': 10, 'catu': 3, 'grav': 4, 'sexe': 2, 'an_nais': 103, 'trajet': 8, 'secu1': 11, 'secu2': 11, 'secu3': 10, 'locp': 11, 'actp': 13, 'etatp': 4, 'senc': 5, 'catv': 31, 'obs': 19, 'obsm': 8, 'choc': 11, 'manv': 28, 'motor': 8}\n"
     ]
    }
   ],
   "source": [
    "featurePossibleValueCountDict = countFeaturePossibleValueDict(trainDatasetDF)\n",
    "print(featurePossibleValueCountDict)"
   ]
  },
  {
   "cell_type": "code",
   "execution_count": 229,
   "metadata": {},
   "outputs": [
    {
     "name": "stdout",
     "output_type": "stream",
     "text": [
      "tooMuchValueFeatureList :  ['Num_Acc', 'hrmn', 'com', 'lat', 'long', 'id_vehicule']\n",
      "tooLessValueFeatureList :  ['an']\n"
     ]
    }
   ],
   "source": [
    "tooMuchPossibleValueFeatureList = [feature for feature in featurePossibleValueCountDict if featurePossibleValueCountDict[feature] > tooMuchPossibleValueFeatureThreshold]\n",
    "tooLessPossibleValueFeatureList = [feature for feature in featurePossibleValueCountDict if featurePossibleValueCountDict[feature] < tooLessPossibleValueFeatureThreshold]\n",
    "\n",
    "print(\"tooMuchValueFeatureList : \", tooMuchPossibleValueFeatureList)\n",
    "print(\"tooLessValueFeatureList : \", tooLessPossibleValueFeatureList)"
   ]
  },
  {
   "cell_type": "code",
   "execution_count": 230,
   "metadata": {},
   "outputs": [
    {
     "name": "stdout",
     "output_type": "stream",
     "text": [
      "valDatasetDF.shape (2836, 34)\n",
      "testDatasetDF.shape (2836, 33)\n"
     ]
    }
   ],
   "source": [
    "unusedFeatureList.extend(tooMuchPossibleValueFeatureList)\n",
    "unusedFeatureList.extend(tooLessPossibleValueFeatureList)\n",
    "trainDatasetDF.drop(columns=tooMuchPossibleValueFeatureList, inplace=True)\n",
    "trainDatasetDF.drop(columns=tooLessPossibleValueFeatureList, inplace=True)\n",
    "valDatasetDF.drop(columns=tooMuchPossibleValueFeatureList, inplace=True)\n",
    "valDatasetDF.drop(columns=tooLessPossibleValueFeatureList, inplace=True)\n",
    "print(\"valDatasetDF.shape\", valDatasetDF.shape)\n",
    "testDatasetDF.drop(columns=tooMuchPossibleValueFeatureList, inplace=True)\n",
    "testDatasetDF.drop(columns=tooLessPossibleValueFeatureList, inplace=True)\n",
    "print(\"testDatasetDF.shape\", testDatasetDF.shape)  # test少了grav列"
   ]
  },
  {
   "cell_type": "code",
   "execution_count": 231,
   "metadata": {},
   "outputs": [
    {
     "name": "stdout",
     "output_type": "stream",
     "text": [
      "['obs', 'secu3', 'catv', 'infra', 'situ']\n",
      "['lartpc', 'larrout', 'occutc', 'v2', 'v1', 'pr1', 'pr', 'circ', 'voie', 'vma', 'vosp', 'nbv', 'adr', 'Num_Acc', 'hrmn', 'com', 'lat', 'long', 'id_vehicule', 'an', 'obs', 'secu3', 'catv', 'infra', 'situ']\n"
     ]
    }
   ],
   "source": [
    "manualLowVarianceFeatureList = ['obs', 'secu3', 'catv', 'infra', 'situ']\n",
    "unusedFeatureList.extend(manualLowVarianceFeatureList)\n",
    "print(manualLowVarianceFeatureList)\n",
    "print(unusedFeatureList)"
   ]
  },
  {
   "cell_type": "code",
   "execution_count": 232,
   "metadata": {},
   "outputs": [
    {
     "name": "stdout",
     "output_type": "stream",
     "text": [
      "trainDatasetDF.shape (79623, 29)\n",
      "valDatasetDF.shape (2836, 29)\n",
      "testDatasetDF.shape (2836, 28)\n"
     ]
    }
   ],
   "source": [
    "trainDatasetDF.drop(columns=manualLowVarianceFeatureList, inplace=True, errors='ignore')\n",
    "print('trainDatasetDF.shape', trainDatasetDF.shape)\n",
    "valDatasetDF.drop(columns=manualLowVarianceFeatureList, inplace=True, errors='ignore')\n",
    "print('valDatasetDF.shape', valDatasetDF.shape)\n",
    "testDatasetDF.drop(columns=manualLowVarianceFeatureList, inplace=True, errors='ignore')\n",
    "print('testDatasetDF.shape', testDatasetDF.shape)"
   ]
  },
  {
   "cell_type": "code",
   "execution_count": 233,
   "metadata": {},
   "outputs": [],
   "source": [
    "experienceDropFeatureList = ['dep', 'num_veh']\n",
    "trainDatasetDF.drop(columns=experienceDropFeatureList, inplace=True, errors='ignore')\n",
    "valDatasetDF.drop(columns=experienceDropFeatureList, inplace=True, errors='ignore')\n",
    "testDatasetDF.drop(columns=experienceDropFeatureList, inplace=True, errors='ignore')\n",
    "unusedFeatureList.extend(experienceDropFeatureList)"
   ]
  },
  {
   "cell_type": "code",
   "execution_count": 234,
   "metadata": {},
   "outputs": [],
   "source": [
    "def getFeatureValueModeDict(datasetDF):\n",
    "    modeDict = datasetDF.mode().T.to_dict()[0]\n",
    "    return modeDict\n",
    "\n",
    "def imputeFeatureValueByMode(datasetDF, datasetModeDict):\n",
    "    for feature in datasetDF:\n",
    "        tempImputer = SimpleImputer(missing_values=np.nan, strategy='constant', fill_value=datasetModeDict[feature])\n",
    "        datasetDF[feature] = tempImputer.fit_transform(datasetDF[feature].values.reshape(-1,1))"
   ]
  },
  {
   "cell_type": "code",
   "execution_count": 235,
   "metadata": {},
   "outputs": [
    {
     "name": "stdout",
     "output_type": "stream",
     "text": [
      "{'jour': 18.0, 'mois': 7.0, 'lum': 1.0, 'agg': 2.0, 'int': 1.0, 'atm': 1.0, 'col': 3.0, 'catr': 4.0, 'prof': 1.0, 'plan': 1.0, 'surf': 1.0, 'place': 1, 'catu': 1, 'grav': 1, 'sexe': 1, 'an_nais': 2000, 'trajet': 5, 'secu1': 1, 'secu2': 0, 'locp': 0, 'actp': '0', 'etatp': -1, 'senc': 1, 'obsm': 2, 'choc': 1, 'manv': 1, 'motor': 1}\n",
      "<class 'dict'>\n"
     ]
    }
   ],
   "source": [
    "trainFeatureValueModeDict = getFeatureValueModeDict(trainDatasetDF)\n",
    "print(trainFeatureValueModeDict)\n",
    "print(type(trainFeatureValueModeDict))"
   ]
  },
  {
   "cell_type": "code",
   "execution_count": 236,
   "metadata": {},
   "outputs": [],
   "source": [
    "imputeFeatureValueByMode(trainDatasetDF, trainFeatureValueModeDict)\n",
    "imputeFeatureValueByMode(valDatasetDF, trainFeatureValueModeDict)\n",
    "imputeFeatureValueByMode(testDatasetDF, trainFeatureValueModeDict)"
   ]
  },
  {
   "cell_type": "code",
   "execution_count": 237,
   "metadata": {},
   "outputs": [],
   "source": [
    "def applyLabelEncoderToDatasetDF(trainDF, valDF, testDF):\n",
    "    objectFeature = trainDatasetDF.select_dtypes(include=['object']).columns.to_list()\n",
    "    for feature in objectFeature:\n",
    "        tempLabelEncoder = LabelEncoder()\n",
    "        trainDF[feature] = tempLabelEncoder.fit_transform(trainDF[feature].to_list())\n",
    "        valDF[feature] = tempLabelEncoder.transform(valDF[feature].to_list())\n",
    "        testDF[feature] = tempLabelEncoder.transform(testDF[feature].to_list())"
   ]
  },
  {
   "cell_type": "code",
   "execution_count": 238,
   "metadata": {},
   "outputs": [
    {
     "name": "stdout",
     "output_type": "stream",
     "text": [
      "object类型的features :  ['actp']\n",
      "----------Before Label Encoder----------\n",
      "trainDatasetDF   :  ['-1', '-1', '0', '0', '0', '0', '0', '0', '0', '0']\n",
      "valDatasetDF     :  ['0', '3', '0', '0', '0', '0', '0', '0', '0', '0']\n",
      "testDatasetDF    :  ['0', '5', '-1', '0', '0', '0', '0', '0', '-1', '-1']\n",
      "----------After Label Encoder----------\n",
      "trainDatasetDF   :  [0, 0, 1, 1, 1, 1, 1, 1, 1, 1]\n",
      "valDatasetDF     :  [1, 4, 1, 1, 1, 1, 1, 1, 1, 1]\n",
      "testDatasetDF    :  [1, 6, 0, 1, 1, 1, 1, 1, 0, 0]\n"
     ]
    }
   ],
   "source": [
    "# 对三个数据集的object类型feature使用相同的LabelEncoder\n",
    "print(\"object类型的features : \", trainDatasetDF.select_dtypes(include=['object']).columns.to_list())\n",
    "print('----------Before Label Encoder----------')\n",
    "print('trainDatasetDF   : ', trainDatasetDF['actp'].to_list()[0:10])\n",
    "print('valDatasetDF     : ', valDatasetDF['actp'].to_list()[0:10])\n",
    "print('testDatasetDF    : ', testDatasetDF['actp'].to_list()[0:10])\n",
    "applyLabelEncoderToDatasetDF(trainDatasetDF, valDatasetDF, testDatasetDF)\n",
    "print('----------After Label Encoder----------')\n",
    "print('trainDatasetDF   : ', trainDatasetDF['actp'].to_list()[0:10])\n",
    "print('valDatasetDF     : ', valDatasetDF['actp'].to_list()[0:10])\n",
    "print('testDatasetDF    : ', testDatasetDF['actp'].to_list()[0:10])"
   ]
  },
  {
   "cell_type": "code",
   "execution_count": 239,
   "metadata": {},
   "outputs": [
    {
     "name": "stdout",
     "output_type": "stream",
     "text": [
      "['lartpc', 'larrout', 'occutc', 'v2', 'v1', 'pr1', 'pr', 'circ', 'voie', 'vma', 'vosp', 'nbv', 'adr', 'Num_Acc', 'hrmn', 'com', 'lat', 'long', 'id_vehicule', 'an', 'obs', 'secu3', 'catv', 'infra', 'situ', 'dep', 'num_veh']\n"
     ]
    }
   ],
   "source": [
    "print(unusedFeatureList)\n"
   ]
  },
  {
   "cell_type": "code",
   "execution_count": 240,
   "metadata": {},
   "outputs": [
    {
     "name": "stdout",
     "output_type": "stream",
     "text": [
      "{1: 33205, 4: 31839, 3: 12505, 2: 2074}\n"
     ]
    }
   ],
   "source": [
    "trainLabelDistributeDict = computeLabelDistributeDict(trainDatasetDF)\n",
    "print(trainLabelDistributeDict)"
   ]
  },
  {
   "cell_type": "code",
   "execution_count": 241,
   "metadata": {},
   "outputs": [],
   "source": [
    "def getSampledDatasetDF(datasetDF):\n",
    "    labelDistributeDict = computeLabelDistributeDict(datasetDF)\n",
    "    maxLabelValue = max(labelDistributeDict, key=labelDistributeDict.get)\n",
    "    maxLabelValueAmount = labelDistributeDict[maxLabelValue]//10\n",
    "\n",
    "    sampledDatasetDF = datasetDF.groupby('grav').get_group(maxLabelValue).sample(maxLabelValueAmount, replace=True, random_state=42)\n",
    "\n",
    "    for labelValue in labelDistributeDict:\n",
    "        if labelValue != maxLabelValue:\n",
    "            tempValueDF = datasetDF.groupby('grav').get_group(labelValue).sample(maxLabelValueAmount, replace=True, random_state=42)\n",
    "            sampledDatasetDF = pd.concat([sampledDatasetDF, tempValueDF], axis=0)\n",
    "    return sampledDatasetDF"
   ]
  },
  {
   "cell_type": "code",
   "execution_count": 242,
   "metadata": {},
   "outputs": [
    {
     "name": "stdout",
     "output_type": "stream",
     "text": [
      "(Before sample)TrainDatasetDF.shape :  (79623, 27)\n",
      "(After sample)TrainDatasetDF.shape :  (13280, 27)\n"
     ]
    }
   ],
   "source": [
    "print(\"(Before sample)TrainDatasetDF.shape : \", trainDatasetDF.shape)\n",
    "sampledTrainDatasetDF = getSampledDatasetDF(trainDatasetDF)\n",
    "print(\"(After sample)TrainDatasetDF.shape : \", sampledTrainDatasetDF.shape)"
   ]
  },
  {
   "cell_type": "code",
   "execution_count": 243,
   "metadata": {},
   "outputs": [],
   "source": [
    "def handleCategoricalFeature(datasetDF, categoricalFeatureList):\n",
    "    # 注意这里drop_first是为了防止dummy variable trap问题\n",
    "    tempDatasetDF = pd.get_dummies(data=datasetDF, prefix_sep='==', columns=categoricalFeatureList, drop_first=True)\n",
    "    return tempDatasetDF"
   ]
  },
  {
   "cell_type": "code",
   "execution_count": 244,
   "metadata": {},
   "outputs": [
    {
     "name": "stdout",
     "output_type": "stream",
     "text": [
      "(18952, 27) 13280 2836 2836\n"
     ]
    }
   ],
   "source": [
    "trainDatasetDFLen = trainDatasetDF.shape[0]\n",
    "valDatasetDFLen = valDatasetDF.shape[0]\n",
    "testDatasetDFLen = testDatasetDF.shape[0]\n",
    "sampledTrainDatasetDFLen = sampledTrainDatasetDF.shape[0]\n",
    "\n",
    "overallDatasetDF = pd.concat([sampledTrainDatasetDF, valDatasetDF, testDatasetDF], axis=0)\n",
    "print(overallDatasetDF.shape, sampledTrainDatasetDFLen, valDatasetDFLen, testDatasetDFLen)"
   ]
  },
  {
   "cell_type": "code",
   "execution_count": 245,
   "metadata": {},
   "outputs": [
    {
     "name": "stdout",
     "output_type": "stream",
     "text": [
      "(18952, 29)\n"
     ]
    }
   ],
   "source": [
    "categoricalFeatureList = ['grav']\n",
    "overallProcessedDatasetDF = handleCategoricalFeature(overallDatasetDF, categoricalFeatureList)\n",
    "print(overallProcessedDatasetDF.shape)"
   ]
  },
  {
   "cell_type": "code",
   "execution_count": 246,
   "metadata": {},
   "outputs": [
    {
     "name": "stdout",
     "output_type": "stream",
     "text": [
      "Index(['jour', 'mois', 'lum', 'agg', 'int', 'atm', 'col', 'catr', 'prof',\n",
      "       'plan', 'surf', 'place', 'catu', 'sexe', 'an_nais', 'trajet', 'secu1',\n",
      "       'secu2', 'locp', 'actp', 'etatp', 'senc', 'obsm', 'choc', 'manv',\n",
      "       'motor', 'grav==2.0', 'grav==3.0', 'grav==4.0'],\n",
      "      dtype='object')\n"
     ]
    }
   ],
   "source": [
    "print(overallProcessedDatasetDF.columns)"
   ]
  },
  {
   "cell_type": "code",
   "execution_count": 247,
   "metadata": {},
   "outputs": [
    {
     "name": "stdout",
     "output_type": "stream",
     "text": [
      "sampledTrainDatasetProcessedDF.shape :  (13280, 29)\n",
      "valDatasetProcessedDF.shape :  (2836, 29)\n",
      "testDatasetProcessedDF.shape :  (2836, 26)\n"
     ]
    }
   ],
   "source": [
    "sampledTrainDatasetProcessedDF = overallProcessedDatasetDF.iloc[0:sampledTrainDatasetDFLen, :]\n",
    "print(\"sampledTrainDatasetProcessedDF.shape : \", sampledTrainDatasetProcessedDF.shape)\n",
    "valDatasetProcessedDF = overallProcessedDatasetDF.iloc[sampledTrainDatasetDFLen:sampledTrainDatasetDFLen+valDatasetDFLen, :]\n",
    "print(\"valDatasetProcessedDF.shape : \", valDatasetProcessedDF.shape)\n",
    "testDatasetProcessedDF = overallProcessedDatasetDF.iloc[sampledTrainDatasetDFLen+valDatasetDFLen:, :]\n",
    "testDatasetProcessedDF = testDatasetProcessedDF.copy()\n",
    "testDatasetProcessedDF.drop(columns=['grav==2.0', 'grav==3.0', 'grav==4.0'], inplace=True)  # 不要忘记删除grav列\n",
    "print(\"testDatasetProcessedDF.shape : \", testDatasetProcessedDF.shape)"
   ]
  },
  {
   "cell_type": "code",
   "execution_count": null,
   "metadata": {},
   "outputs": [],
   "source": []
  },
  {
   "cell_type": "code",
   "execution_count": null,
   "metadata": {},
   "outputs": [],
   "source": []
  },
  {
   "cell_type": "code",
   "execution_count": 248,
   "metadata": {},
   "outputs": [
    {
     "name": "stdout",
     "output_type": "stream",
     "text": [
      "trainSampled (13280, 26) (13280,)\n",
      "trainSampledProcessed (13280, 26) (13280, 3)\n",
      "val (2836, 26) (2836,)\n",
      "valProcessed (2836, 26) (2836, 3)\n",
      "valProcessed (2836, 26) (2836, 3)\n",
      "testProcessed (2836, 26)\n"
     ]
    }
   ],
   "source": [
    "trainSampledX = sampledTrainDatasetDF.drop(columns=['grav']).values\n",
    "trainSampledY = sampledTrainDatasetDF['grav'].values\n",
    "print(\"trainSampled\", trainSampledX.shape,trainSampledY.shape)\n",
    "\n",
    "trainSampledProcessedX = sampledTrainDatasetProcessedDF.drop(columns=['grav==2.0', 'grav==3.0', 'grav==4.0']).values\n",
    "trainSampledProcessedY = sampledTrainDatasetProcessedDF[['grav==2.0', 'grav==3.0', 'grav==4.0']].values\n",
    "print(\"trainSampledProcessed\", trainSampledProcessedX.shape,trainSampledProcessedY.shape)\n",
    "\n",
    "valX = valDatasetDF.drop(columns=['grav']).values\n",
    "valY = valDatasetDF['grav'].values\n",
    "print(\"val\", valX.shape,valY.shape)\n",
    "\n",
    "valProcessedX = valDatasetProcessedDF.drop(columns=['grav==2.0', 'grav==3.0', 'grav==4.0']).values\n",
    "valProcessedY =valDatasetProcessedDF[['grav==2.0', 'grav==3.0', 'grav==4.0']].values\n",
    "print(\"valProcessed\", valProcessedX.shape,valProcessedY.shape)\n",
    "\n",
    "\n",
    "testX = testDatasetDF.values\n",
    "print(\"valProcessed\", valProcessedX.shape,valProcessedY.shape)\n",
    "testProcessedX = testDatasetProcessedDF.values\n",
    "print(\"testProcessed\", testProcessedX.shape)"
   ]
  },
  {
   "cell_type": "code",
   "execution_count": 249,
   "metadata": {},
   "outputs": [],
   "source": [
    "randomForestGini0 = RandomForestClassifier(n_jobs=8, random_state=42, n_estimators=250, criterion='gini')\n",
    "randomForestGini1 = RandomForestClassifier(n_jobs=8, random_state=42, n_estimators=250, criterion='gini')\n",
    "randomForestGini2 = RandomForestClassifier(n_jobs=8, random_state=42, n_estimators=250, criterion='gini')\n",
    "\n",
    "# randomForestEntropy = RandomForestClassifier(n_jobs=8, random_state=42, n_estimators=200, criterion='entropy')"
   ]
  },
  {
   "cell_type": "code",
   "execution_count": 250,
   "metadata": {},
   "outputs": [],
   "source": [
    "randomForestGini0.fit(X=trainSampledProcessedX, y=trainSampledProcessedY[:,0])\n",
    "valPredictProcessedY0 = randomForestGini0.predict_proba(valProcessedX)[:,1]\n",
    "testPredictProcessedY0 = randomForestGini0.predict_proba(testProcessedX)[:,1]\n",
    "\n",
    "randomForestGini1.fit(X=trainSampledProcessedX, y=trainSampledProcessedY[:,1])\n",
    "valPredictProcessedY1 = randomForestGini1.predict_proba(valProcessedX)[:,1]\n",
    "testPredictProcessedY0 = randomForestGini0.predict_proba(testProcessedX)[:,1]\n",
    "\n",
    "randomForestGini2.fit(X=trainSampledProcessedX, y=trainSampledProcessedY[:,2])\n",
    "valPredictProcessedY2 = randomForestGini2.predict_proba(valProcessedX)[:,1]\n",
    "testPredictProcessedY0 = randomForestGini0.predict_proba(testProcessedX)[:,1]"
   ]
  },
  {
   "cell_type": "code",
   "execution_count": 251,
   "metadata": {},
   "outputs": [
    {
     "name": "stdout",
     "output_type": "stream",
     "text": [
      "val dataset dummies accuracy\n",
      "0.7905500705218618\n",
      "0.7577574047954866\n",
      "0.7711565585331452\n"
     ]
    }
   ],
   "source": [
    "valPredictProcessedY0_Temp = []\n",
    "valPredictProcessedY1_Temp = []\n",
    "valPredictProcessedY2_Temp = []\n",
    "\n",
    "\n",
    "for idx in range(len(valPredictProcessedY0)):\n",
    "    if valPredictProcessedY0[idx] >= 0.5:\n",
    "        valPredictProcessedY0_Temp.append(int(1))\n",
    "    else:\n",
    "        valPredictProcessedY0_Temp.append(int(0))\n",
    "\n",
    "for idx in range(len(valPredictProcessedY1)):\n",
    "    if valPredictProcessedY1[idx] >= 0.5:\n",
    "        valPredictProcessedY1_Temp.append(int(1))\n",
    "    else:\n",
    "        valPredictProcessedY1_Temp.append(int(0))\n",
    "\n",
    "for idx in range(len(valPredictProcessedY2)):\n",
    "    if valPredictProcessedY2[idx] >= 0.5:\n",
    "        valPredictProcessedY2_Temp.append(int(1))\n",
    "    else:\n",
    "        valPredictProcessedY2_Temp.append(int(0))\n",
    "\n",
    "print(\"val dataset dummies accuracy\")\n",
    "print(accuracy_score(valPredictProcessedY0_Temp, valProcessedY[:,0]))\n",
    "print(accuracy_score(valPredictProcessedY1_Temp, valProcessedY[:,1]))\n",
    "print(accuracy_score(valPredictProcessedY2_Temp, valProcessedY[:,2]))"
   ]
  },
  {
   "cell_type": "code",
   "execution_count": 252,
   "metadata": {},
   "outputs": [],
   "source": [
    "# def mergeThreeDummiesLabels(ProcessedY0, ):\n"
   ]
  },
  {
   "cell_type": "code",
   "execution_count": 253,
   "metadata": {},
   "outputs": [],
   "source": [
    "valPredictProcessedResult = []\n",
    "# testPredictProcessedResult = []\n",
    "for idx in range(len(valPredictProcessedY1)):\n",
    "    # ['grav==2.0', 'grav==3.0', 'grav==4.0']\n",
    "    tempProbList = [valPredictProcessedY0[idx],valPredictProcessedY1[idx],valPredictProcessedY2[idx]]\n",
    "    tempResult = 0\n",
    "    maxProb = max(tempProbList)\n",
    "    # print(maxProb)\n",
    "    maxProbIdx = tempProbList.index(maxProb)\n",
    "    if maxProb > 0.325:\n",
    "        valPredictProcessedResult.append(maxProbIdx+2)\n",
    "    else:\n",
    "        valPredictProcessedResult.append(1)\n",
    "    # if idx < 20:\n",
    "    #     print(\"---------\")\n",
    "    #     print(tempProbList, maxProb, valPredictProcessedResult[idx])"
   ]
  },
  {
   "cell_type": "code",
   "execution_count": 254,
   "metadata": {},
   "outputs": [
    {
     "name": "stdout",
     "output_type": "stream",
     "text": [
      "0.5278561354019746\n"
     ]
    }
   ],
   "source": [
    "print(accuracy_score(valPredictProcessedResult, valY))"
   ]
  },
  {
   "cell_type": "code",
   "execution_count": null,
   "metadata": {},
   "outputs": [],
   "source": []
  },
  {
   "cell_type": "code",
   "execution_count": null,
   "metadata": {},
   "outputs": [],
   "source": []
  },
  {
   "cell_type": "code",
   "execution_count": null,
   "metadata": {},
   "outputs": [],
   "source": []
  }
 ],
 "metadata": {
  "kernelspec": {
   "display_name": "Python 3.8.13 ('ML')",
   "language": "python",
   "name": "python3"
  },
  "language_info": {
   "codemirror_mode": {
    "name": "ipython",
    "version": 3
   },
   "file_extension": ".py",
   "mimetype": "text/x-python",
   "name": "python",
   "nbconvert_exporter": "python",
   "pygments_lexer": "ipython3",
   "version": "3.8.13"
  },
  "orig_nbformat": 4,
  "vscode": {
   "interpreter": {
    "hash": "8809126b2e3f6bd67afd8dec0aaf136102c3339cf179547b748c69a78a732e29"
   }
  }
 },
 "nbformat": 4,
 "nbformat_minor": 2
}
